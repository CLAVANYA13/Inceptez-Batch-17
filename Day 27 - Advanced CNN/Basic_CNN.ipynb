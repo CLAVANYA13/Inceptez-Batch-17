{
  "nbformat": 4,
  "nbformat_minor": 0,
  "metadata": {
    "colab": {
      "name": "Basic_CNN.ipynb",
      "provenance": [],
      "collapsed_sections": []
    },
    "kernelspec": {
      "name": "python3",
      "display_name": "Python 3"
    },
    "language_info": {
      "name": "python"
    }
  },
  "cells": [
    {
      "cell_type": "code",
      "execution_count": 2,
      "metadata": {
        "colab": {
          "base_uri": "https://localhost:8080/",
          "height": 35
        },
        "id": "IaINyLk0b1a9",
        "outputId": "453c81d1-5ee9-4d84-cb8f-064b0359c34c"
      },
      "outputs": [
        {
          "output_type": "execute_result",
          "data": {
            "text/plain": [
              "'2.8.0'"
            ],
            "application/vnd.google.colaboratory.intrinsic+json": {
              "type": "string"
            }
          },
          "metadata": {},
          "execution_count": 2
        }
      ],
      "source": [
        "from keras.datasets import mnist \n",
        "import matplotlib.pyplot as plt \n",
        "from keras.utils.np_utils import to_categorical \n",
        "import keras\n",
        "keras.__version__"
      ]
    },
    {
      "cell_type": "code",
      "source": [
        "from keras.models import Sequential \n",
        "from tensorflow.keras import optimizers\n",
        "from keras.layers import Dense, Activation, Conv2D, MaxPooling2D, Flatten"
      ],
      "metadata": {
        "id": "xfgdGxqKfTlr"
      },
      "execution_count": 8,
      "outputs": []
    },
    {
      "cell_type": "code",
      "source": [
        "(x_train, y_train),(x_test,y_test) = mnist.load_data() "
      ],
      "metadata": {
        "colab": {
          "base_uri": "https://localhost:8080/"
        },
        "id": "Httd7w3YcSvg",
        "outputId": "fdeff9f5-c878-41b5-d1a6-1596b150317f"
      },
      "execution_count": 3,
      "outputs": [
        {
          "output_type": "stream",
          "name": "stdout",
          "text": [
            "Downloading data from https://storage.googleapis.com/tensorflow/tf-keras-datasets/mnist.npz\n",
            "11493376/11490434 [==============================] - 0s 0us/step\n",
            "11501568/11490434 [==============================] - 0s 0us/step\n"
          ]
        }
      ]
    },
    {
      "cell_type": "code",
      "source": [
        "x_train.shape"
      ],
      "metadata": {
        "colab": {
          "base_uri": "https://localhost:8080/"
        },
        "id": "4RZ1-rxXdFJ_",
        "outputId": "2a77cd54-bcec-4075-f320-c5ccededd24f"
      },
      "execution_count": 4,
      "outputs": [
        {
          "output_type": "execute_result",
          "data": {
            "text/plain": [
              "(60000, 28, 28)"
            ]
          },
          "metadata": {},
          "execution_count": 4
        }
      ]
    },
    {
      "cell_type": "code",
      "source": [
        "x_train = x_train.reshape(x_train.shape[0],x_train.shape[1],x_train.shape[2],1)\n",
        "x_test = x_test.reshape(x_test.shape[0],x_test.shape[1],x_test.shape[2],1)"
      ],
      "metadata": {
        "id": "E_-glX4CcqA8"
      },
      "execution_count": 5,
      "outputs": []
    },
    {
      "cell_type": "code",
      "source": [
        "y_train = to_categorical(y_train)\n",
        "y_test = to_categorical(y_test)"
      ],
      "metadata": {
        "id": "o93CsY8ghcLY"
      },
      "execution_count": 15,
      "outputs": []
    },
    {
      "cell_type": "code",
      "source": [
        "x_train.shape,x_test.shape"
      ],
      "metadata": {
        "colab": {
          "base_uri": "https://localhost:8080/"
        },
        "id": "gJvi8o9ldWww",
        "outputId": "6810106b-6c0c-4612-ec7c-2aada21db2d9"
      },
      "execution_count": 6,
      "outputs": [
        {
          "output_type": "execute_result",
          "data": {
            "text/plain": [
              "((60000, 28, 28, 1), (10000, 28, 28, 1))"
            ]
          },
          "metadata": {},
          "execution_count": 6
        }
      ]
    },
    {
      "cell_type": "code",
      "source": [
        "model = Sequential()\n",
        "model.add(Conv2D(input_shape = (28,28,1), filters = 20,kernel_size = (3,3),strides = (1,1)))\n",
        "model.add(Activation('relu'))\n",
        "model.add(MaxPooling2D(pool_size = (2,2), strides = (1,1)))\n",
        "model.add(Flatten())\n",
        "model.add(Dense(50,activation = 'relu'))\n",
        "model.add(Dense(10,activation='softmax'))"
      ],
      "metadata": {
        "id": "2vop5BD5eWBK"
      },
      "execution_count": 17,
      "outputs": []
    },
    {
      "cell_type": "code",
      "source": [
        "adm= optimizers.Adam()\n",
        "model.compile(loss = 'categorical_crossentropy',optimizer = adm, metrics = ['accuracy'])\n",
        "model.summary()"
      ],
      "metadata": {
        "colab": {
          "base_uri": "https://localhost:8080/"
        },
        "id": "ninGsBTpeXyo",
        "outputId": "fa3d6d63-f31a-427d-de82-7fdc0f47b3cf"
      },
      "execution_count": 18,
      "outputs": [
        {
          "output_type": "stream",
          "name": "stdout",
          "text": [
            "Model: \"sequential_2\"\n",
            "_________________________________________________________________\n",
            " Layer (type)                Output Shape              Param #   \n",
            "=================================================================\n",
            " conv2d_2 (Conv2D)           (None, 26, 26, 20)        200       \n",
            "                                                                 \n",
            " activation_2 (Activation)   (None, 26, 26, 20)        0         \n",
            "                                                                 \n",
            " max_pooling2d_2 (MaxPooling  (None, 25, 25, 20)       0         \n",
            " 2D)                                                             \n",
            "                                                                 \n",
            " flatten_2 (Flatten)         (None, 12500)             0         \n",
            "                                                                 \n",
            " dense_4 (Dense)             (None, 50)                625050    \n",
            "                                                                 \n",
            " dense_5 (Dense)             (None, 10)                510       \n",
            "                                                                 \n",
            "=================================================================\n",
            "Total params: 625,760\n",
            "Trainable params: 625,760\n",
            "Non-trainable params: 0\n",
            "_________________________________________________________________\n"
          ]
        }
      ]
    },
    {
      "cell_type": "code",
      "source": [
        "%%time \n",
        "history = model.fit(x_train,y_train,batch_size = 50,validation_split= 0.2,epochs = 10, verbose= 1)"
      ],
      "metadata": {
        "colab": {
          "base_uri": "https://localhost:8080/"
        },
        "id": "f-ZfZuRPeXuv",
        "outputId": "582f0c22-a1cb-4b74-9990-86cd3460164b"
      },
      "execution_count": 19,
      "outputs": [
        {
          "output_type": "stream",
          "name": "stdout",
          "text": [
            "Epoch 1/10\n",
            "960/960 [==============================] - 34s 35ms/step - loss: 2.8330 - accuracy: 0.3569 - val_loss: 1.4762 - val_accuracy: 0.4298\n",
            "Epoch 2/10\n",
            "960/960 [==============================] - 34s 35ms/step - loss: 1.1550 - accuracy: 0.5870 - val_loss: 0.9641 - val_accuracy: 0.6466\n",
            "Epoch 3/10\n",
            "960/960 [==============================] - 34s 35ms/step - loss: 0.8592 - accuracy: 0.6610 - val_loss: 0.7568 - val_accuracy: 0.6797\n",
            "Epoch 4/10\n",
            "960/960 [==============================] - 32s 33ms/step - loss: 0.4180 - accuracy: 0.8709 - val_loss: 0.2117 - val_accuracy: 0.9551\n",
            "Epoch 5/10\n",
            "960/960 [==============================] - 33s 34ms/step - loss: 0.1401 - accuracy: 0.9659 - val_loss: 0.1388 - val_accuracy: 0.9672\n",
            "Epoch 6/10\n",
            "960/960 [==============================] - 32s 34ms/step - loss: 0.0835 - accuracy: 0.9778 - val_loss: 0.1184 - val_accuracy: 0.9733\n",
            "Epoch 7/10\n",
            "960/960 [==============================] - 33s 34ms/step - loss: 0.0607 - accuracy: 0.9834 - val_loss: 0.1030 - val_accuracy: 0.9768\n",
            "Epoch 8/10\n",
            "960/960 [==============================] - 32s 33ms/step - loss: 0.0504 - accuracy: 0.9866 - val_loss: 0.1228 - val_accuracy: 0.9737\n",
            "Epoch 9/10\n",
            "960/960 [==============================] - 52s 54ms/step - loss: 0.0411 - accuracy: 0.9884 - val_loss: 0.1345 - val_accuracy: 0.9743\n",
            "Epoch 10/10\n",
            "960/960 [==============================] - 38s 39ms/step - loss: 0.0399 - accuracy: 0.9894 - val_loss: 0.1488 - val_accuracy: 0.9712\n",
            "CPU times: user 8min 55s, sys: 18.9 s, total: 9min 14s\n",
            "Wall time: 6min 22s\n"
          ]
        }
      ]
    },
    {
      "cell_type": "code",
      "source": [
        "plt.plot(history.history['accuracy'])\n",
        "plt.plot(history.history['val_accuracy'])\n",
        "plt.legend(['training','validation'])"
      ],
      "metadata": {
        "colab": {
          "base_uri": "https://localhost:8080/",
          "height": 283
        },
        "id": "Vb65I8yAg98U",
        "outputId": "72b7e98f-c576-42df-b112-02392c976575"
      },
      "execution_count": 20,
      "outputs": [
        {
          "output_type": "execute_result",
          "data": {
            "text/plain": [
              "<matplotlib.legend.Legend at 0x7f9f4dfd28d0>"
            ]
          },
          "metadata": {},
          "execution_count": 20
        },
        {
          "output_type": "display_data",
          "data": {
            "text/plain": [
              "<Figure size 432x288 with 1 Axes>"
            ],
            "image/png": "[encoded data removed]"
          },
          "metadata": {
            "needs_background": "light"
          }
        }
      ]
    },
    {
      "cell_type": "code",
      "source": [
        "model.evaluate(x_test,y_test)"
      ],
      "metadata": {
        "colab": {
          "base_uri": "https://localhost:8080/"
        },
        "id": "ltW89pQeg95d",
        "outputId": "245ae388-e021-46c0-be32-3f4a5f18f97d"
      },
      "execution_count": 21,
      "outputs": [
        {
          "output_type": "stream",
          "name": "stdout",
          "text": [
            "313/313 [==============================] - 5s 15ms/step - loss: 0.1382 - accuracy: 0.9716\n"
          ]
        },
        {
          "output_type": "execute_result",
          "data": {
            "text/plain": [
              "[0.13819198310375214, 0.9715999960899353]"
            ]
          },
          "metadata": {},
          "execution_count": 21
        }
      ]
    },
    {
      "cell_type": "code",
      "source": [
        "model = Sequential()\n",
        "model.add(Conv2D(input_shape = (28,28,1), filters = 20,kernel_size = (3,3),strides = (1,1)))\n",
        "model.add(Activation('relu'))\n",
        "model.add(MaxPooling2D(pool_size = (2,2), strides = (1,1)))\n",
        "\n",
        "model.add(Conv2D(filters = 20,kernel_size = (3,3),strides = (1,1)))\n",
        "model.add(Activation('relu'))\n",
        "model.add(MaxPooling2D(pool_size = (2,2), strides = (1,1)))\n",
        "\n",
        "model.add(Conv2D(filters = 20,kernel_size = (3,3),strides = (1,1)))\n",
        "model.add(Activation('relu'))\n",
        "model.add(MaxPooling2D(pool_size = (2,2), strides = (1,1)))\n",
        "\n",
        "model.add(Conv2D(filters = 20,kernel_size = (3,3),strides = (1,1)))\n",
        "model.add(Activation('relu'))\n",
        "model.add(MaxPooling2D(pool_size = (2,2), strides = (1,1)))\n",
        "\n",
        "model.add(Conv2D(filters = 20,kernel_size = (3,3),strides = (1,1)))\n",
        "model.add(Activation('relu'))\n",
        "model.add(MaxPooling2D(pool_size = (2,2), strides = (1,1)))\n",
        "\n",
        "model.add(Flatten())\n",
        "model.add(Dense(50,activation = 'relu'))\n",
        "model.add(Dense(10,activation='softmax'))"
      ],
      "metadata": {
        "id": "Vsbx1VtTg91C"
      },
      "execution_count": 22,
      "outputs": []
    },
    {
      "cell_type": "code",
      "source": [
        "adm= optimizers.Adam()\n",
        "model.compile(loss = 'categorical_crossentropy',optimizer = adm, metrics = ['accuracy'])\n",
        "model.summary()"
      ],
      "metadata": {
        "colab": {
          "base_uri": "https://localhost:8080/"
        },
        "id": "ij844mSoeXr3",
        "outputId": "9120613f-d038-43d3-8360-2e6f668d3087"
      },
      "execution_count": 23,
      "outputs": [
        {
          "output_type": "stream",
          "name": "stdout",
          "text": [
            "Model: \"sequential_3\"\n",
            "_________________________________________________________________\n",
            " Layer (type)                Output Shape              Param #   \n",
            "=================================================================\n",
            " conv2d_3 (Conv2D)           (None, 26, 26, 20)        200       \n",
            "                                                                 \n",
            " activation_3 (Activation)   (None, 26, 26, 20)        0         \n",
            "                                                                 \n",
            " max_pooling2d_3 (MaxPooling  (None, 25, 25, 20)       0         \n",
            " 2D)                                                             \n",
            "                                                                 \n",
            " conv2d_4 (Conv2D)           (None, 23, 23, 20)        3620      \n",
            "                                                                 \n",
            " activation_4 (Activation)   (None, 23, 23, 20)        0         \n",
            "                                                                 \n",
            " max_pooling2d_4 (MaxPooling  (None, 22, 22, 20)       0         \n",
            " 2D)                                                             \n",
            "                                                                 \n",
            " conv2d_5 (Conv2D)           (None, 20, 20, 20)        3620      \n",
            "                                                                 \n",
            " activation_5 (Activation)   (None, 20, 20, 20)        0         \n",
            "                                                                 \n",
            " max_pooling2d_5 (MaxPooling  (None, 19, 19, 20)       0         \n",
            " 2D)                                                             \n",
            "                                                                 \n",
            " conv2d_6 (Conv2D)           (None, 17, 17, 20)        3620      \n",
            "                                                                 \n",
            " activation_6 (Activation)   (None, 17, 17, 20)        0         \n",
            "                                                                 \n",
            " max_pooling2d_6 (MaxPooling  (None, 16, 16, 20)       0         \n",
            " 2D)                                                             \n",
            "                                                                 \n",
            " conv2d_7 (Conv2D)           (None, 14, 14, 20)        3620      \n",
            "                                                                 \n",
            " activation_7 (Activation)   (None, 14, 14, 20)        0         \n",
            "                                                                 \n",
            " max_pooling2d_7 (MaxPooling  (None, 13, 13, 20)       0         \n",
            " 2D)                                                             \n",
            "                                                                 \n",
            " flatten_3 (Flatten)         (None, 3380)              0         \n",
            "                                                                 \n",
            " dense_6 (Dense)             (None, 50)                169050    \n",
            "                                                                 \n",
            " dense_7 (Dense)             (None, 10)                510       \n",
            "                                                                 \n",
            "=================================================================\n",
            "Total params: 184,240\n",
            "Trainable params: 184,240\n",
            "Non-trainable params: 0\n",
            "_________________________________________________________________\n"
          ]
        }
      ]
    },
    {
      "cell_type": "code",
      "source": [
        "%%time \n",
        "history = model.fit(x_train,y_train,batch_size = 50,validation_split= 0.2,epochs = 1, verbose= 1)"
      ],
      "metadata": {
        "colab": {
          "base_uri": "https://localhost:8080/"
        },
        "id": "kZBFQrY_eXou",
        "outputId": "4e1bfa46-6b11-4231-9731-fdcaea066f20"
      },
      "execution_count": 25,
      "outputs": [
        {
          "output_type": "stream",
          "name": "stdout",
          "text": [
            "960/960 [==============================] - 163s 170ms/step - loss: 0.1421 - accuracy: 0.9574 - val_loss: 0.0726 - val_accuracy: 0.9777\n",
            "CPU times: user 4min 26s, sys: 19.7 s, total: 4min 46s\n",
            "Wall time: 3min 21s\n"
          ]
        }
      ]
    },
    {
      "cell_type": "code",
      "source": [
        "model.evaluate(x_test,y_test)"
      ],
      "metadata": {
        "colab": {
          "base_uri": "https://localhost:8080/"
        },
        "id": "sWKpMTCteXiv",
        "outputId": "1ae71ba3-483d-4a46-c215-49e319bfb194"
      },
      "execution_count": 27,
      "outputs": [
        {
          "output_type": "stream",
          "name": "stdout",
          "text": [
            "313/313 [==============================] - 9s 29ms/step - loss: 0.0703 - accuracy: 0.9781\n"
          ]
        },
        {
          "output_type": "execute_result",
          "data": {
            "text/plain": [
              "[0.07033694535493851, 0.9781000018119812]"
            ]
          },
          "metadata": {},
          "execution_count": 27
        }
      ]
    },
    {
      "cell_type": "code",
      "source": [
        ""
      ],
      "metadata": {
        "id": "3djHM78QeXgI"
      },
      "execution_count": null,
      "outputs": []
    },
    {
      "cell_type": "code",
      "source": [
        ""
      ],
      "metadata": {
        "id": "hnxSHVhneXdS"
      },
      "execution_count": null,
      "outputs": []
    }
  ]
}