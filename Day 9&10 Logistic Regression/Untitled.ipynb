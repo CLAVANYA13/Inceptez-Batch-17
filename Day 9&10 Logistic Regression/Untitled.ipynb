{
 "cells": [
  {
   "cell_type": "code",
   "execution_count": null,
   "metadata": {},
   "outputs": [],
   "source": [
    "'''\n",
    "(combined - train and test) - pd.concat()\n",
    "-Importing all the libraries-\n",
    "\n",
    "1. EDA - Charts (sns, Matplotlib, pdf), boxplot, Heatmap\n",
    "2. Processing - (Fixing null, Outlier handling, Feature Engineering) isna, VIF, fillna, groupby \n",
    "3. Split - Train and test\n",
    "**Even for preprocessing fumnctions from SKLEARN - Onehot, Label, Feature scaling\n",
    "4. Model initialization (lr = LinearRegression())\n",
    "5. Model Fitting (lr.fit(train,y)) \n",
    "6. Model prediction (lr.predict(test))\n",
    "7. Model Evaluation (cost - MSE in reg / Metrics - Classification)\n",
    "'''\n",
    "- what?\n",
    "- how use?\n",
    "- Creating?"
   ]
  }
 ],
 "metadata": {
  "kernelspec": {
   "display_name": "Python 3",
   "language": "python",
   "name": "python3"
  },
  "language_info": {
   "codemirror_mode": {
    "name": "ipython",
    "version": 3
   },
   "file_extension": ".py",
   "mimetype": "text/x-python",
   "name": "python",
   "nbconvert_exporter": "python",
   "pygments_lexer": "ipython3",
   "version": "3.8.5"
  }
 },
 "nbformat": 4,
 "nbformat_minor": 4
}
