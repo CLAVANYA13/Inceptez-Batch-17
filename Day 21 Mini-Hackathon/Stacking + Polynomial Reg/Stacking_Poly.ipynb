{
  "nbformat": 4,
  "nbformat_minor": 0,
  "metadata": {
    "colab": {
      "name": "Untitled18.ipynb",
      "provenance": []
    },
    "kernelspec": {
      "name": "python3",
      "display_name": "Python 3"
    },
    "language_info": {
      "name": "python"
    }
  },
  "cells": [
    {
      "cell_type": "code",
      "execution_count": 1,
      "metadata": {
        "colab": {
          "base_uri": "https://localhost:8080/"
        },
        "id": "XbEVzyS8Jxdy",
        "outputId": "3f8f4f72-0061-4cf5-e0e9-2064805a6172"
      },
      "outputs": [
        {
          "output_type": "execute_result",
          "data": {
            "text/plain": [
              "0.3642619780615395"
            ]
          },
          "metadata": {},
          "execution_count": 1
        }
      ],
      "source": [
        "from sklearn.datasets import load_diabetes\n",
        "from sklearn.linear_model import RidgeCV\n",
        "from sklearn.svm import LinearSVR\n",
        "from sklearn.ensemble import RandomForestRegressor\n",
        "from sklearn.ensemble import StackingRegressor\n",
        "X, y = load_diabetes(return_X_y=True)\n",
        "estimators = [\n",
        "     ('lr', RidgeCV()),\n",
        "     ('svr', LinearSVR(random_state=42))\n",
        "]\n",
        "reg = StackingRegressor(\n",
        "    estimators=estimators,\n",
        "    final_estimator=RandomForestRegressor(n_estimators=10,\n",
        "                                          random_state=42))\n",
        "from sklearn.model_selection import train_test_split\n",
        "X_train, X_test, y_train, y_test = train_test_split(\n",
        "     X, y, random_state=42)\n",
        "reg.fit(X_train, y_train).score(X_test, y_test)"
      ]
    },
    {
      "cell_type": "code",
      "source": [
        "import numpy as np\n",
        "import matplotlib.pyplot as plt \n",
        "import pandas as pd\n",
        "from sklearn.preprocessing import PolynomialFeatures\n",
        "from sklearn.linear_model import LinearRegression\n",
        "data = pd.read_csv('data.csv')\n",
        "data.head()"
      ],
      "metadata": {
        "colab": {
          "base_uri": "https://localhost:8080/",
          "height": 206
        },
        "id": "tqVM6WtsRJ2g",
        "outputId": "a2698e8c-f877-4e97-e062-6576ef3f607c"
      },
      "execution_count": 13,
      "outputs": [
        {
          "output_type": "execute_result",
          "data": {
            "text/html": [
              "\n",
              "  <div id=\"df-af5e5840-e0da-415b-81a2-ac34f11be1dc\">\n",
              "    <div class=\"colab-df-container\">\n",
              "      <div>\n",
              "<style scoped>\n",
              "    .dataframe tbody tr th:only-of-type {\n",
              "        vertical-align: middle;\n",
              "    }\n",
              "\n",
              "    .dataframe tbody tr th {\n",
              "        vertical-align: top;\n",
              "    }\n",
              "\n",
              "    .dataframe thead th {\n",
              "        text-align: right;\n",
              "    }\n",
              "</style>\n",
              "<table border=\"1\" class=\"dataframe\">\n",
              "  <thead>\n",
              "    <tr style=\"text-align: right;\">\n",
              "      <th></th>\n",
              "      <th>sno</th>\n",
              "      <th>Temperature</th>\n",
              "      <th>Pressure</th>\n",
              "    </tr>\n",
              "  </thead>\n",
              "  <tbody>\n",
              "    <tr>\n",
              "      <th>0</th>\n",
              "      <td>1</td>\n",
              "      <td>0</td>\n",
              "      <td>0.0002</td>\n",
              "    </tr>\n",
              "    <tr>\n",
              "      <th>1</th>\n",
              "      <td>2</td>\n",
              "      <td>20</td>\n",
              "      <td>0.0012</td>\n",
              "    </tr>\n",
              "    <tr>\n",
              "      <th>2</th>\n",
              "      <td>3</td>\n",
              "      <td>40</td>\n",
              "      <td>0.0060</td>\n",
              "    </tr>\n",
              "    <tr>\n",
              "      <th>3</th>\n",
              "      <td>4</td>\n",
              "      <td>60</td>\n",
              "      <td>0.0300</td>\n",
              "    </tr>\n",
              "    <tr>\n",
              "      <th>4</th>\n",
              "      <td>5</td>\n",
              "      <td>80</td>\n",
              "      <td>0.0900</td>\n",
              "    </tr>\n",
              "  </tbody>\n",
              "</table>\n",
              "</div>\n",
              "      <button class=\"colab-df-convert\" onclick=\"convertToInteractive('df-af5e5840-e0da-415b-81a2-ac34f11be1dc')\"\n",
              "              title=\"Convert this dataframe to an interactive table.\"\n",
              "              style=\"display:none;\">\n",
              "        \n",
              "  <svg xmlns=\"http://www.w3.org/2000/svg\" height=\"24px\"viewBox=\"0 0 24 24\"\n",
              "       width=\"24px\">\n",
              "    <path d=\"M0 0h24v24H0V0z\" fill=\"none\"/>\n",
              "    <path d=\"M18.56 5.44l.94 2.06.94-2.06 2.06-.94-2.06-.94-.94-2.06-.94 2.06-2.06.94zm-11 1L8.5 8.5l.94-2.06 2.06-.94-2.06-.94L8.5 2.5l-.94 2.06-2.06.94zm10 10l.94 2.06.94-2.06 2.06-.94-2.06-.94-.94-2.06-.94 2.06-2.06.94z\"/><path d=\"M17.41 7.96l-1.37-1.37c-.4-.4-.92-.59-1.43-.59-.52 0-1.04.2-1.43.59L10.3 9.45l-7.72 7.72c-.78.78-.78 2.05 0 2.83L4 21.41c.39.39.9.59 1.41.59.51 0 1.02-.2 1.41-.59l7.78-7.78 2.81-2.81c.8-.78.8-2.07 0-2.86zM5.41 20L4 18.59l7.72-7.72 1.47 1.35L5.41 20z\"/>\n",
              "  </svg>\n",
              "      </button>\n",
              "      \n",
              "  <style>\n",
              "    .colab-df-container {\n",
              "      display:flex;\n",
              "      flex-wrap:wrap;\n",
              "      gap: 12px;\n",
              "    }\n",
              "\n",
              "    .colab-df-convert {\n",
              "      background-color: #E8F0FE;\n",
              "      border: none;\n",
              "      border-radius: 50%;\n",
              "      cursor: pointer;\n",
              "      display: none;\n",
              "      fill: #1967D2;\n",
              "      height: 32px;\n",
              "      padding: 0 0 0 0;\n",
              "      width: 32px;\n",
              "    }\n",
              "\n",
              "    .colab-df-convert:hover {\n",
              "      background-color: #E2EBFA;\n",
              "      box-shadow: 0px 1px 2px rgba(60, 64, 67, 0.3), 0px 1px 3px 1px rgba(60, 64, 67, 0.15);\n",
              "      fill: #174EA6;\n",
              "    }\n",
              "\n",
              "    [theme=dark] .colab-df-convert {\n",
              "      background-color: #3B4455;\n",
              "      fill: #D2E3FC;\n",
              "    }\n",
              "\n",
              "    [theme=dark] .colab-df-convert:hover {\n",
              "      background-color: #434B5C;\n",
              "      box-shadow: 0px 1px 3px 1px rgba(0, 0, 0, 0.15);\n",
              "      filter: drop-shadow(0px 1px 2px rgba(0, 0, 0, 0.3));\n",
              "      fill: #FFFFFF;\n",
              "    }\n",
              "  </style>\n",
              "\n",
              "      <script>\n",
              "        const buttonEl =\n",
              "          document.querySelector('#df-af5e5840-e0da-415b-81a2-ac34f11be1dc button.colab-df-convert');\n",
              "        buttonEl.style.display =\n",
              "          google.colab.kernel.accessAllowed ? 'block' : 'none';\n",
              "\n",
              "        async function convertToInteractive(key) {\n",
              "          const element = document.querySelector('#df-af5e5840-e0da-415b-81a2-ac34f11be1dc');\n",
              "          const dataTable =\n",
              "            await google.colab.kernel.invokeFunction('convertToInteractive',\n",
              "                                                     [key], {});\n",
              "          if (!dataTable) return;\n",
              "\n",
              "          const docLinkHtml = 'Like what you see? Visit the ' +\n",
              "            '<a target=\"_blank\" href=https://colab.research.google.com/notebooks/data_table.ipynb>data table notebook</a>'\n",
              "            + ' to learn more about interactive tables.';\n",
              "          element.innerHTML = '';\n",
              "          dataTable['output_type'] = 'display_data';\n",
              "          await google.colab.output.renderOutput(dataTable, element);\n",
              "          const docLink = document.createElement('div');\n",
              "          docLink.innerHTML = docLinkHtml;\n",
              "          element.appendChild(docLink);\n",
              "        }\n",
              "      </script>\n",
              "    </div>\n",
              "  </div>\n",
              "  "
            ],
            "text/plain": [
              "   sno  Temperature  Pressure\n",
              "0    1            0    0.0002\n",
              "1    2           20    0.0012\n",
              "2    3           40    0.0060\n",
              "3    4           60    0.0300\n",
              "4    5           80    0.0900"
            ]
          },
          "metadata": {},
          "execution_count": 13
        }
      ]
    },
    {
      "cell_type": "code",
      "source": [
        "X = data.iloc[:,1:2].values\n",
        "Y = data.iloc[:,2].values"
      ],
      "metadata": {
        "id": "9Sv0590-S2qO"
      },
      "execution_count": 3,
      "outputs": []
    },
    {
      "cell_type": "code",
      "source": [
        "lin = LinearRegression()\n",
        "lin.fit(X,Y)"
      ],
      "metadata": {
        "colab": {
          "base_uri": "https://localhost:8080/"
        },
        "id": "pldlTuYnTA2J",
        "outputId": "86770265-53a7-439e-920d-5bc8f1ba8f9e"
      },
      "execution_count": 6,
      "outputs": [
        {
          "output_type": "execute_result",
          "data": {
            "text/plain": [
              "LinearRegression()"
            ]
          },
          "metadata": {},
          "execution_count": 6
        }
      ]
    },
    {
      "cell_type": "code",
      "source": [
        "plt.scatter(X,Y,color = 'blue')\n",
        "\n",
        "plt.plot(X,lin.predict(X),color = 'red')\n",
        "plt.show()"
      ],
      "metadata": {
        "colab": {
          "base_uri": "https://localhost:8080/",
          "height": 265
        },
        "id": "416xy01gTE86",
        "outputId": "09be40c1-28c7-4aa0-bd20-5b116dbfe247"
      },
      "execution_count": 7,
      "outputs": [
        {
          "output_type": "display_data",
          "data": {
            "image/png": "[encoded data removed]",
            "text/plain": [
              "<Figure size 432x288 with 1 Axes>"
            ]
          },
          "metadata": {
            "needs_background": "light"
          }
        }
      ]
    },
    {
      "cell_type": "code",
      "source": [
        "poly = PolynomialFeatures(degree = 4)\n",
        "\n",
        "X_poly = poly.fit_transform(X)\n",
        "#poly.fit(X_poly,y)\n",
        "lin2 = LinearRegression()\n",
        "lin2.fit(X_poly,Y)"
      ],
      "metadata": {
        "colab": {
          "base_uri": "https://localhost:8080/"
        },
        "id": "SCSME2EkTE6B",
        "outputId": "3aee73ba-9144-4be6-c165-faba9840a44a"
      },
      "execution_count": 10,
      "outputs": [
        {
          "output_type": "execute_result",
          "data": {
            "text/plain": [
              "LinearRegression()"
            ]
          },
          "metadata": {},
          "execution_count": 10
        }
      ]
    },
    {
      "cell_type": "code",
      "source": [
        "plt.scatter(X,Y,color = 'blue')\n",
        "\n",
        "plt.plot(X,lin2.predict(poly.fit_transform(X)),color = 'red')\n",
        "plt.show()"
      ],
      "metadata": {
        "colab": {
          "base_uri": "https://localhost:8080/",
          "height": 265
        },
        "id": "DAFxHIn-TE3K",
        "outputId": "c28834ce-aa33-4fea-fce8-30a19b19dc5e"
      },
      "execution_count": 11,
      "outputs": [
        {
          "output_type": "display_data",
          "data": {
            "image/png": "[encoded data removed]",
            "text/plain": [
              "<Figure size 432x288 with 1 Axes>"
            ]
          },
          "metadata": {
            "needs_background": "light"
          }
        }
      ]
    },
    {
      "cell_type": "markdown",
      "source": [
        "![image.png](data:image/png;base64,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)"
      ],
      "metadata": {
        "id": "aWQJh1qMU-HX"
      }
    },
    {
      "cell_type": "code",
      "source": [
        "value = 110\n",
        "predarray = np.array([[value]])\n",
        "lin.predict(predarray)"
      ],
      "metadata": {
        "colab": {
          "base_uri": "https://localhost:8080/"
        },
        "id": "qZhpitLOTE0V",
        "outputId": "42a4d21a-c356-4ba6-b916-8168cbace3b3"
      },
      "execution_count": 14,
      "outputs": [
        {
          "output_type": "execute_result",
          "data": {
            "text/plain": [
              "array([0.20675333])"
            ]
          },
          "metadata": {},
          "execution_count": 14
        }
      ]
    },
    {
      "cell_type": "code",
      "source": [
        "value = 110\n",
        "predarray = np.array([[value]])\n",
        "lin2.predict(poly.fit_transform(predarray))"
      ],
      "metadata": {
        "colab": {
          "base_uri": "https://localhost:8080/"
        },
        "id": "MuGmfBkATEw7",
        "outputId": "2a2fdaff-624a-4e8f-cfab-8c0a4ec3b86f"
      },
      "execution_count": 16,
      "outputs": [
        {
          "output_type": "execute_result",
          "data": {
            "text/plain": [
              "array([0.43295877])"
            ]
          },
          "metadata": {},
          "execution_count": 16
        }
      ]
    },
    {
      "cell_type": "code",
      "source": [
        "#pseudo \n",
        "Queue = Pipeline([Preprocessing -> Scaling -> Model building])"
      ],
      "metadata": {
        "id": "Te_T5k0fTEuC"
      },
      "execution_count": null,
      "outputs": []
    },
    {
      "cell_type": "code",
      "source": [
        "Queue.fit()"
      ],
      "metadata": {
        "id": "JUtElkdYTEru"
      },
      "execution_count": null,
      "outputs": []
    },
    {
      "cell_type": "code",
      "source": [
        ""
      ],
      "metadata": {
        "id": "Vm4TGOKkTEo2"
      },
      "execution_count": null,
      "outputs": []
    },
    {
      "cell_type": "code",
      "source": [
        ""
      ],
      "metadata": {
        "id": "R7D1kgS2TEmf"
      },
      "execution_count": null,
      "outputs": []
    },
    {
      "cell_type": "code",
      "source": [
        ""
      ],
      "metadata": {
        "id": "P67Gk_qfTEj6"
      },
      "execution_count": null,
      "outputs": []
    }
  ]
}