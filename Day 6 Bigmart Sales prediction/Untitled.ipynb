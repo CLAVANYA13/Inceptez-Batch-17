{
 "cells": [
  {
   "cell_type": "code",
   "execution_count": null,
   "metadata": {},
   "outputs": [],
   "source": [
    "#Train \n",
    "#Test \n",
    "#Sample \n",
    "#Machine Learning - Machine Learn ----- on something ----- Use the same to derive something\n",
    "#The data with which we train the model is called as train\n",
    "#Data which has not been seen by the model - but actual Y - Predict on (Y)\n",
    "\n"
   ]
  }
 ],
 "metadata": {
  "kernelspec": {
   "display_name": "Python 3",
   "language": "python",
   "name": "python3"
  },
  "language_info": {
   "codemirror_mode": {
    "name": "ipython",
    "version": 3
   },
   "file_extension": ".py",
   "mimetype": "text/x-python",
   "name": "python",
   "nbconvert_exporter": "python",
   "pygments_lexer": "ipython3",
   "version": "3.8.5"
  }
 },
 "nbformat": 4,
 "nbformat_minor": 4
}
