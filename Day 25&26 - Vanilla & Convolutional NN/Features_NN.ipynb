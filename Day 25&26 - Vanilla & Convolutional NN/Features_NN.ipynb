{
  "nbformat": 4,
  "nbformat_minor": 0,
  "metadata": {
    "colab": {
      "name": "Features_NN.ipynb",
      "provenance": []
    },
    "kernelspec": {
      "name": "python3",
      "display_name": "Python 3"
    },
    "language_info": {
      "name": "python"
    }
  },
  "cells": [
    {
      "cell_type": "code",
      "execution_count": 39,
      "metadata": {
        "id": "Xu4KVQqHsce-"
      },
      "outputs": [],
      "source": [
        "import numpy as np \n",
        "from numpy import loadtxt\n",
        "from tensorflow.keras.models import Sequential \n",
        "from tensorflow.keras.layers import Dense"
      ]
    },
    {
      "cell_type": "code",
      "source": [
        "data = loadtxt('pima-indians-diabetes.csv', delimiter = ',')\n",
        "data"
      ],
      "metadata": {
        "colab": {
          "base_uri": "https://localhost:8080/"
        },
        "id": "SclxGT9DtRME",
        "outputId": "f9246421-b422-4505-a6ee-12e46f18d14e"
      },
      "execution_count": 40,
      "outputs": [
        {
          "output_type": "execute_result",
          "data": {
            "text/plain": [
              "array([[  6.   , 148.   ,  72.   , ...,   0.627,  50.   ,   1.   ],\n",
              "       [  1.   ,  85.   ,  66.   , ...,   0.351,  31.   ,   0.   ],\n",
              "       [  8.   , 183.   ,  64.   , ...,   0.672,  32.   ,   1.   ],\n",
              "       ...,\n",
              "       [  5.   , 121.   ,  72.   , ...,   0.245,  30.   ,   0.   ],\n",
              "       [  1.   , 126.   ,  60.   , ...,   0.349,  47.   ,   1.   ],\n",
              "       [  1.   ,  93.   ,  70.   , ...,   0.315,  23.   ,   0.   ]])"
            ]
          },
          "metadata": {},
          "execution_count": 40
        }
      ]
    },
    {
      "cell_type": "code",
      "source": [
        "x = data[:,0:8]\n",
        "y = data[:,8]"
      ],
      "metadata": {
        "id": "ahPYGqswtdUn"
      },
      "execution_count": 41,
      "outputs": []
    },
    {
      "cell_type": "code",
      "source": [
        "model = Sequential()\n",
        "model.add(Dense(8, input_dim=8, activation = 'linear'))\n",
        "model.add(Dense(8,activation = 'relu'))\n",
        "model.add(Dense(1,activation = 'sigmoid'))"
      ],
      "metadata": {
        "id": "iRF11_FrtoH-"
      },
      "execution_count": 42,
      "outputs": []
    },
    {
      "cell_type": "code",
      "source": [
        "model = Sequential([\n",
        "  Dense(8, input_dim=8, activation = 'linear'),\n",
        "  Dense(8,activation = 'relu'),\n",
        "  Dense(1,activation = 'sigmoid')   \n",
        "])"
      ],
      "metadata": {
        "id": "smZGzQrvuKjZ"
      },
      "execution_count": 43,
      "outputs": []
    },
    {
      "cell_type": "code",
      "source": [
        "model.get_weights()"
      ],
      "metadata": {
        "colab": {
          "base_uri": "https://localhost:8080/"
        },
        "id": "PI0fiDAauNv9",
        "outputId": "b71064bc-d0b4-4945-b2f5-79221a81b786"
      },
      "execution_count": 44,
      "outputs": [
        {
          "output_type": "execute_result",
          "data": {
            "text/plain": [
              "[array([[-0.535185  ,  0.24281889,  0.29762048, -0.23936304, -0.26630518,\n",
              "         -0.18727458,  0.18592668, -0.49753582],\n",
              "        [ 0.37152767, -0.2903825 , -0.1249558 , -0.1078521 , -0.47698224,\n",
              "          0.4061684 , -0.2285578 , -0.53238916],\n",
              "        [ 0.1562593 , -0.15873429,  0.19182074, -0.25849545,  0.4524719 ,\n",
              "         -0.46478838, -0.48026538, -0.50899297],\n",
              "        [ 0.25502092, -0.4735223 , -0.1364538 ,  0.4924094 ,  0.22247046,\n",
              "          0.14255184,  0.42047638,  0.1577723 ],\n",
              "        [ 0.43974227, -0.37995774,  0.14604479, -0.15048626,  0.5814828 ,\n",
              "         -0.06969035,  0.34148622, -0.2108841 ],\n",
              "        [-0.17591175, -0.11554065, -0.15770411, -0.35251322,  0.55065376,\n",
              "         -0.28831133, -0.23286352, -0.4069193 ],\n",
              "        [ 0.17900991, -0.1981093 , -0.37856066, -0.4174146 ,  0.51950973,\n",
              "          0.31328   , -0.27013773, -0.05318451],\n",
              "        [-0.48873737,  0.42419535, -0.30832076, -0.16071686, -0.58370095,\n",
              "          0.4698853 ,  0.56920606, -0.09361684]], dtype=float32),\n",
              " array([0., 0., 0., 0., 0., 0., 0., 0.], dtype=float32),\n",
              " array([[ 0.07818222, -0.00403082, -0.3186718 , -0.51501226,  0.45767015,\n",
              "          0.45466202, -0.2879615 , -0.5713431 ],\n",
              "        [-0.08374721, -0.20543051,  0.338459  ,  0.11249447,  0.3884768 ,\n",
              "          0.3320697 ,  0.13969487,  0.48129278],\n",
              "        [ 0.31053543, -0.44761562,  0.08326918, -0.3792108 , -0.06091833,\n",
              "          0.09035343,  0.35603708,  0.2516606 ],\n",
              "        [ 0.22601432, -0.2868836 ,  0.1632117 ,  0.33849245,  0.37881672,\n",
              "          0.41287488, -0.5578719 , -0.28766936],\n",
              "        [-0.29804143, -0.45445898, -0.09970945, -0.5882525 , -0.32402492,\n",
              "         -0.0652011 , -0.5511334 , -0.28836185],\n",
              "        [ 0.27763325,  0.36094767,  0.18720359,  0.1567986 , -0.33402714,\n",
              "         -0.31325457, -0.5504339 , -0.39920592],\n",
              "        [-0.24016225,  0.48035342, -0.12388021, -0.29052705, -0.02560288,\n",
              "         -0.51433325,  0.3277141 , -0.4773696 ],\n",
              "        [-0.13251004,  0.52517325,  0.26665533, -0.28379303, -0.25298348,\n",
              "         -0.3997511 , -0.36895615,  0.01438373]], dtype=float32),\n",
              " array([0., 0., 0., 0., 0., 0., 0., 0.], dtype=float32),\n",
              " array([[ 0.8044243 ],\n",
              "        [-0.81299007],\n",
              "        [-0.7476889 ],\n",
              "        [ 0.5515921 ],\n",
              "        [-0.5713302 ],\n",
              "        [-0.47253194],\n",
              "        [-0.69781005],\n",
              "        [-0.07468921]], dtype=float32),\n",
              " array([0.], dtype=float32)]"
            ]
          },
          "metadata": {},
          "execution_count": 44
        }
      ]
    },
    {
      "cell_type": "code",
      "source": [
        "import tensorflow as tf\n",
        "from keras import optimizers"
      ],
      "metadata": {
        "id": "VcnJnHa2uNsF"
      },
      "execution_count": 45,
      "outputs": []
    },
    {
      "cell_type": "code",
      "source": [
        "gd = tf.keras.optimizers.SGD(learning_rate = 0.001)"
      ],
      "metadata": {
        "id": "bldVK-h7uNoZ"
      },
      "execution_count": 46,
      "outputs": []
    },
    {
      "cell_type": "code",
      "source": [
        "model.compile(loss = 'binary_crossentropy', optimizer = gd,metrics = ['accuracy'])"
      ],
      "metadata": {
        "id": "2NtIUiYAuNlS"
      },
      "execution_count": 47,
      "outputs": []
    },
    {
      "cell_type": "code",
      "source": [
        "model.fit(x,y,epochs = 10,batch_size=10,validation_split = 0.20)"
      ],
      "metadata": {
        "colab": {
          "base_uri": "https://localhost:8080/"
        },
        "id": "RzLAAS4auNiJ",
        "outputId": "bdbd5203-1554-455a-9f90-6e21cead9a85"
      },
      "execution_count": 48,
      "outputs": [
        {
          "output_type": "stream",
          "name": "stdout",
          "text": [
            "Epoch 1/10\n",
            "62/62 [==============================] - 1s 4ms/step - loss: 2.3327 - accuracy: 0.6189 - val_loss: 1.3472 - val_accuracy: 0.7078\n",
            "Epoch 2/10\n",
            "62/62 [==============================] - 0s 2ms/step - loss: 1.2152 - accuracy: 0.6580 - val_loss: 1.2859 - val_accuracy: 0.6753\n",
            "Epoch 3/10\n",
            "62/62 [==============================] - 0s 2ms/step - loss: 0.9491 - accuracy: 0.6759 - val_loss: 0.8473 - val_accuracy: 0.7273\n",
            "Epoch 4/10\n",
            "62/62 [==============================] - 0s 2ms/step - loss: 0.8854 - accuracy: 0.6759 - val_loss: 2.0595 - val_accuracy: 0.6429\n",
            "Epoch 5/10\n",
            "62/62 [==============================] - 0s 2ms/step - loss: 0.8429 - accuracy: 0.6564 - val_loss: 0.6854 - val_accuracy: 0.6623\n",
            "Epoch 6/10\n",
            "62/62 [==============================] - 0s 2ms/step - loss: 0.7690 - accuracy: 0.6498 - val_loss: 0.6998 - val_accuracy: 0.6429\n",
            "Epoch 7/10\n",
            "62/62 [==============================] - 0s 2ms/step - loss: 0.7015 - accuracy: 0.6564 - val_loss: 0.6835 - val_accuracy: 0.6494\n",
            "Epoch 8/10\n",
            "62/62 [==============================] - 0s 2ms/step - loss: 0.6989 - accuracy: 0.6678 - val_loss: 0.6695 - val_accuracy: 0.6558\n",
            "Epoch 9/10\n",
            "62/62 [==============================] - 0s 2ms/step - loss: 0.6863 - accuracy: 0.6678 - val_loss: 0.6756 - val_accuracy: 0.6494\n",
            "Epoch 10/10\n",
            "62/62 [==============================] - 0s 2ms/step - loss: 0.6704 - accuracy: 0.6678 - val_loss: 0.7386 - val_accuracy: 0.6558\n"
          ]
        },
        {
          "output_type": "execute_result",
          "data": {
            "text/plain": [
              "<keras.callbacks.History at 0x7f590cae2550>"
            ]
          },
          "metadata": {},
          "execution_count": 48
        }
      ]
    },
    {
      "cell_type": "code",
      "source": [
        "model.get_weights()"
      ],
      "metadata": {
        "colab": {
          "base_uri": "https://localhost:8080/"
        },
        "id": "aW_QCTviuNfS",
        "outputId": "0a85e6e2-8737-4cd7-edaa-5364b6b6af11"
      },
      "execution_count": 49,
      "outputs": [
        {
          "output_type": "execute_result",
          "data": {
            "text/plain": [
              "[array([[-0.5317906 ,  0.24036774,  0.29554558, -0.23945175, -0.25757492,\n",
              "         -0.18424708,  0.18907784, -0.48973405],\n",
              "        [ 0.4044324 , -0.32212844, -0.09862091, -0.12231352, -0.24081899,\n",
              "          0.3948044 , -0.17233065, -0.42872918],\n",
              "        [ 0.17484815, -0.23652542,  0.12346515, -0.35633224,  0.5971566 ,\n",
              "         -0.4136666 , -0.3542019 , -0.35099545],\n",
              "        [ 0.26937842, -0.4505273 , -0.09526365,  0.49991128,  0.26619935,\n",
              "          0.09136398,  0.40765572,  0.12479861],\n",
              "        [ 0.40713334, -0.41100988,  0.12937152, -0.16286789,  0.6324165 ,\n",
              "         -0.03164849,  0.36294132, -0.16558811],\n",
              "        [-0.20522769, -0.13919434, -0.1533687 , -0.31577662,  0.6104356 ,\n",
              "         -0.24219356, -0.2576413 , -0.38607144],\n",
              "        [ 0.17859426, -0.19837041, -0.37841508, -0.41679782,  0.520195  ,\n",
              "          0.31387973, -0.27051005, -0.05301672],\n",
              "        [-0.45457456,  0.4121657 , -0.3105535 , -0.17855202, -0.5208974 ,\n",
              "          0.46960136,  0.60396266, -0.04099476]], dtype=float32),\n",
              " array([ 1.1598658e-03, -7.2478084e-05, -3.4714874e-04, -6.6536374e-04,\n",
              "         1.9109251e-03, -5.2572828e-04,  1.1778974e-03,  1.4095753e-03],\n",
              "       dtype=float32),\n",
              " array([[ 0.03084856, -0.0622118 , -0.3186718 , -0.5492517 ,  0.4505479 ,\n",
              "          0.3741231 , -0.32584321, -0.57170403],\n",
              "        [-0.01441156, -0.12180614,  0.338459  ,  0.16352206,  0.38911223,\n",
              "          0.41435227,  0.1808221 ,  0.48195696],\n",
              "        [ 0.313628  , -0.40278316,  0.08326918, -0.35177442, -0.07259639,\n",
              "          0.09717467,  0.36394432,  0.2519169 ],\n",
              "        [ 0.25429672, -0.29867536,  0.1632117 ,  0.36918506,  0.40402198,\n",
              "          0.50265956, -0.4649033 , -0.28658125],\n",
              "        [-0.29779366, -0.461512  , -0.09970945, -0.56473124, -0.35650182,\n",
              "         -0.14376344, -0.5885504 , -0.28862906],\n",
              "        [ 0.24079506,  0.29720685,  0.18720359,  0.09576291, -0.29573748,\n",
              "         -0.29348645, -0.5288908 , -0.39906192],\n",
              "        [-0.1932012 ,  0.43851826, -0.12388021, -0.26918426, -0.00733429,\n",
              "         -0.47853932,  0.35758448, -0.47653684],\n",
              "        [-0.03110116,  0.5474305 ,  0.26665533, -0.18847008, -0.22569364,\n",
              "         -0.25878504, -0.24716087,  0.01651891]], dtype=float32),\n",
              " array([-2.1906251e-03,  4.1711991e-04,  0.0000000e+00, -1.9944955e-03,\n",
              "         4.5781740e-04, -1.0825629e-04, -6.5424008e-04, -2.0277015e-05],\n",
              "       dtype=float32),\n",
              " array([[ 0.73405766],\n",
              "        [-0.7333613 ],\n",
              "        [-0.7476889 ],\n",
              "        [ 0.4830681 ],\n",
              "        [-0.5614635 ],\n",
              "        [-0.3943304 ],\n",
              "        [-0.6044361 ],\n",
              "        [-0.07377695]], dtype=float32),\n",
              " array([-0.06382083], dtype=float32)]"
            ]
          },
          "metadata": {},
          "execution_count": 49
        }
      ]
    },
    {
      "cell_type": "code",
      "source": [
        "model.predict(x)"
      ],
      "metadata": {
        "id": "yMXl5m_duNcc"
      },
      "execution_count": null,
      "outputs": []
    },
    {
      "cell_type": "code",
      "source": [
        "#Depreciated\n",
        "model.predict_classes(x)"
      ],
      "metadata": {
        "colab": {
          "base_uri": "https://localhost:8080/",
          "height": 186
        },
        "id": "uufMueu-wlL4",
        "outputId": "cd1dd6f2-6e9a-49b5-b0fa-0695b171adf8"
      },
      "execution_count": 52,
      "outputs": [
        {
          "output_type": "error",
          "ename": "AttributeError",
          "evalue": "ignored",
          "traceback": [
            "\u001b[0;31m---------------------------------------------------------------------------\u001b[0m",
            "\u001b[0;31mAttributeError\u001b[0m                            Traceback (most recent call last)",
            "\u001b[0;32m<ipython-input-52-18063092b0a9>\u001b[0m in \u001b[0;36m<module>\u001b[0;34m()\u001b[0m\n\u001b[1;32m      1\u001b[0m \u001b[0;31m#Depreciated\u001b[0m\u001b[0;34m\u001b[0m\u001b[0;34m\u001b[0m\u001b[0;34m\u001b[0m\u001b[0m\n\u001b[0;32m----> 2\u001b[0;31m \u001b[0mmodel\u001b[0m\u001b[0;34m.\u001b[0m\u001b[0mpredict_classes\u001b[0m\u001b[0;34m(\u001b[0m\u001b[0mx\u001b[0m\u001b[0;34m)\u001b[0m\u001b[0;34m\u001b[0m\u001b[0;34m\u001b[0m\u001b[0m\n\u001b[0m",
            "\u001b[0;31mAttributeError\u001b[0m: 'Sequential' object has no attribute 'predict_classes'"
          ]
        }
      ]
    },
    {
      "cell_type": "code",
      "source": [
        "predictions = (model.predict(x) > 0.5).astype(\"int32\")"
      ],
      "metadata": {
        "id": "-BNv_XNTwlIn"
      },
      "execution_count": 24,
      "outputs": []
    },
    {
      "cell_type": "code",
      "source": [
        "predictions"
      ],
      "metadata": {
        "id": "Hu_lZZjzwlGA"
      },
      "execution_count": null,
      "outputs": []
    },
    {
      "cell_type": "code",
      "source": [
        "from tensorflow.keras.layers import BatchNormalization"
      ],
      "metadata": {
        "id": "MhK6fQQawlDL"
      },
      "execution_count": 54,
      "outputs": []
    },
    {
      "cell_type": "code",
      "source": [
        "model = Sequential()\n",
        "model.add(Dense(8, input_dim=8, activation = 'linear'))\n",
        "model.add(BatchNormalization())\n",
        "model.add(Dense(8,activation = 'selu'))\n",
        "model.add(BatchNormalization())\n",
        "model.add(Dense(1,activation = 'sigmoid'))"
      ],
      "metadata": {
        "id": "Umm0VrN9xysd"
      },
      "execution_count": 63,
      "outputs": []
    },
    {
      "cell_type": "code",
      "source": [
        "from tensorflow.keras.layers import Dropout"
      ],
      "metadata": {
        "id": "KNUpMEP-0bhs"
      },
      "execution_count": 61,
      "outputs": []
    },
    {
      "cell_type": "code",
      "source": [
        "model = Sequential()\n",
        "model.add(Dense(8, input_dim=8, activation = 'linear'))\n",
        "model.add(Dropout(0.2))\n",
        "model.add(Dense(8,activation = 'relu'))\n",
        "model.add(Dense(1,activation = 'sigmoid'))"
      ],
      "metadata": {
        "id": "AAdnpcfLxymh"
      },
      "execution_count": 62,
      "outputs": []
    },
    {
      "cell_type": "code",
      "source": [
        ""
      ],
      "metadata": {
        "id": "dsY7apvcxyj4"
      },
      "execution_count": null,
      "outputs": []
    },
    {
      "cell_type": "code",
      "source": [
        ""
      ],
      "metadata": {
        "id": "HuToGLNpxyhA"
      },
      "execution_count": null,
      "outputs": []
    },
    {
      "cell_type": "code",
      "source": [
        ""
      ],
      "metadata": {
        "id": "dP8L5QpWxyZ-"
      },
      "execution_count": null,
      "outputs": []
    }
  ]
}