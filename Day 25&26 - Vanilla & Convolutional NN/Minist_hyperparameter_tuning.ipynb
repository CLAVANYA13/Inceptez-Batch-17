{
  "nbformat": 4,
  "nbformat_minor": 0,
  "metadata": {
    "colab": {
      "name": "Minist_hyperparameter_tuning.ipynb",
      "provenance": []
    },
    "kernelspec": {
      "name": "python3",
      "display_name": "Python 3"
    },
    "language_info": {
      "name": "python"
    }
  },
  "cells": [
    {
      "cell_type": "code",
      "execution_count": 1,
      "metadata": {
        "id": "NawvOpy837Q9"
      },
      "outputs": [],
      "source": [
        "import matplotlib.pyplot as plt \n",
        "\n",
        "from tensorflow import keras\n",
        "from keras.datasets import mnist \n",
        "from keras.models import Sequential"
      ]
    },
    {
      "cell_type": "code",
      "source": [
        "(x_train, y_train),(x_test,y_test) = mnist.load_data()\n",
        "plt.imshow(x_train[7],cmap = 'gray')\n",
        "plt.show()\n",
        "print('Label:',y_train[7])"
      ],
      "metadata": {
        "colab": {
          "base_uri": "https://localhost:8080/",
          "height": 336
        },
        "id": "JIbuVAX84qJ_",
        "outputId": "0a067e9a-d86b-4064-8c20-e9af3d3c1ae2"
      },
      "execution_count": 2,
      "outputs": [
        {
          "output_type": "stream",
          "name": "stdout",
          "text": [
            "Downloading data from https://storage.googleapis.com/tensorflow/tf-keras-datasets/mnist.npz\n",
            "11493376/11490434 [==============================] - 0s 0us/step\n",
            "11501568/11490434 [==============================] - 0s 0us/step\n"
          ]
        },
        {
          "output_type": "display_data",
          "data": {
            "text/plain": [
              "<Figure size 432x288 with 1 Axes>"
            ],
            "image/png": "[encoded data removed]"
          },
          "metadata": {
            "needs_background": "light"
          }
        },
        {
          "output_type": "stream",
          "name": "stdout",
          "text": [
            "Label: 3\n"
          ]
        }
      ]
    },
    {
      "cell_type": "code",
      "source": [
        "for i in range(0,5): \n",
        "  plt.imshow(x_train[i])\n",
        "  plt.show()\n",
        "  print('Label:',y_train[i])"
      ],
      "metadata": {
        "colab": {
          "base_uri": "https://localhost:8080/",
          "height": 1000
        },
        "id": "FLpja5ERRvsS",
        "outputId": "83471fe8-3354-4644-a82c-b632ce25aea2"
      },
      "execution_count": 3,
      "outputs": [
        {
          "output_type": "display_data",
          "data": {
            "text/plain": [
              "<Figure size 432x288 with 1 Axes>"
            ],
            "image/png": "[encoded data removed]"
          },
          "metadata": {
            "needs_background": "light"
          }
        },
        {
          "output_type": "stream",
          "name": "stdout",
          "text": [
            "Label: 5\n"
          ]
        },
        {
          "output_type": "display_data",
          "data": {
            "text/plain": [
              "<Figure size 432x288 with 1 Axes>"
            ],
            "image/png": "[encoded data removed]"
          },
          "metadata": {
            "needs_background": "light"
          }
        },
        {
          "output_type": "stream",
          "name": "stdout",
          "text": [
            "Label: 0\n"
          ]
        },
        {
          "output_type": "display_data",
          "data": {
            "text/plain": [
              "<Figure size 432x288 with 1 Axes>"
            ],
            "image/png": "[encoded data removed]"
          },
          "metadata": {
            "needs_background": "light"
          }
        },
        {
          "output_type": "stream",
          "name": "stdout",
          "text": [
            "Label: 4\n"
          ]
        },
        {
          "output_type": "display_data",
          "data": {
            "text/plain": [
              "<Figure size 432x288 with 1 Axes>"
            ],
            "image/png": "[encoded data removed]"
          },
          "metadata": {
            "needs_background": "light"
          }
        },
        {
          "output_type": "stream",
          "name": "stdout",
          "text": [
            "Label: 1\n"
          ]
        },
        {
          "output_type": "display_data",
          "data": {
            "text/plain": [
              "<Figure size 432x288 with 1 Axes>"
            ],
            "image/png": "[encoded data removed]"
          },
          "metadata": {
            "needs_background": "light"
          }
        },
        {
          "output_type": "stream",
          "name": "stdout",
          "text": [
            "Label: 9\n"
          ]
        }
      ]
    },
    {
      "cell_type": "code",
      "source": [
        "x_train.shape"
      ],
      "metadata": {
        "colab": {
          "base_uri": "https://localhost:8080/"
        },
        "id": "1Sk-qRbxRvoY",
        "outputId": "a8929f2f-6291-4cd0-cb52-2b530c6345d8"
      },
      "execution_count": 4,
      "outputs": [
        {
          "output_type": "execute_result",
          "data": {
            "text/plain": [
              "(60000, 28, 28)"
            ]
          },
          "metadata": {},
          "execution_count": 4
        }
      ]
    },
    {
      "cell_type": "code",
      "source": [
        "x_train = x_train.reshape(x_train.shape[0],-1)\n",
        "x_test = x_test.reshape(x_test.shape[0],-1)"
      ],
      "metadata": {
        "id": "1VT3LDYfRvjK"
      },
      "execution_count": 5,
      "outputs": []
    },
    {
      "cell_type": "code",
      "source": [
        "x_train.shape"
      ],
      "metadata": {
        "colab": {
          "base_uri": "https://localhost:8080/"
        },
        "id": "j55Z6vtXRvfy",
        "outputId": "01eb4e25-681f-4cd1-ccf6-87170d63af4c"
      },
      "execution_count": 6,
      "outputs": [
        {
          "output_type": "execute_result",
          "data": {
            "text/plain": [
              "(60000, 784)"
            ]
          },
          "metadata": {},
          "execution_count": 6
        }
      ]
    },
    {
      "cell_type": "code",
      "source": [
        "y_train"
      ],
      "metadata": {
        "colab": {
          "base_uri": "https://localhost:8080/"
        },
        "id": "6n3g-3OoRvcq",
        "outputId": "91426ee9-e595-4e4d-b56b-224b0238d693"
      },
      "execution_count": 7,
      "outputs": [
        {
          "output_type": "execute_result",
          "data": {
            "text/plain": [
              "array([5, 0, 4, ..., 5, 6, 8], dtype=uint8)"
            ]
          },
          "metadata": {},
          "execution_count": 7
        }
      ]
    },
    {
      "cell_type": "code",
      "source": [
        "from keras.utils.np_utils import to_categorical"
      ],
      "metadata": {
        "id": "WWpf-QYMRvaD"
      },
      "execution_count": 8,
      "outputs": []
    },
    {
      "cell_type": "code",
      "source": [
        "y_train = to_categorical(y_train)\n",
        "y_test = to_categorical(y_test)"
      ],
      "metadata": {
        "id": "ovoH3lBZVA0d"
      },
      "execution_count": 11,
      "outputs": []
    },
    {
      "cell_type": "code",
      "source": [
        "to_categorical?"
      ],
      "metadata": {
        "id": "xBGZRI9kViYD"
      },
      "execution_count": 13,
      "outputs": []
    },
    {
      "cell_type": "code",
      "source": [
        "y_train"
      ],
      "metadata": {
        "colab": {
          "base_uri": "https://localhost:8080/"
        },
        "id": "c7cno7r3VA3T",
        "outputId": "2c4d1199-bdc1-4e71-d351-38cc45686e74"
      },
      "execution_count": 12,
      "outputs": [
        {
          "output_type": "execute_result",
          "data": {
            "text/plain": [
              "array([[0., 0., 0., ..., 0., 0., 0.],\n",
              "       [1., 0., 0., ..., 0., 0., 0.],\n",
              "       [0., 0., 0., ..., 0., 0., 0.],\n",
              "       ...,\n",
              "       [0., 0., 0., ..., 0., 0., 0.],\n",
              "       [0., 0., 0., ..., 0., 0., 0.],\n",
              "       [0., 0., 0., ..., 0., 1., 0.]], dtype=float32)"
            ]
          },
          "metadata": {},
          "execution_count": 12
        }
      ]
    },
    {
      "cell_type": "code",
      "source": [
        "#Can you guys try building a NN model?\n",
        "SEQUENTIAL MODEL!!\n",
        "\n",
        "1. i/p , 1 hidden , 1 o/p\n",
        "2. Activation - i/p, hidden - Sigmoid\n",
        "3. SGD Optimizer \n",
        "4. 30 epochs - 100 batch_size "
      ],
      "metadata": {
        "id": "tAcOol3zVA6K"
      },
      "execution_count": null,
      "outputs": []
    },
    {
      "cell_type": "code",
      "source": [
        "from keras.layers import Dense, Activation\n",
        "from keras import optimizers, losses"
      ],
      "metadata": {
        "id": "8mu1g_GEVBA7"
      },
      "execution_count": 14,
      "outputs": []
    },
    {
      "cell_type": "code",
      "source": [
        "model = Sequential()\n",
        "model.add(Dense(10,input_shape=(x_train.shape[1],), activation = 'sigmoid'))\n",
        "model.add(Dense(10, activation = 'sigmoid'))\n",
        "model.add(Dense(10, activation = 'softmax'))"
      ],
      "metadata": {
        "id": "cBKVIg-yWMOY"
      },
      "execution_count": 15,
      "outputs": []
    },
    {
      "cell_type": "code",
      "source": [
        "model.summary()"
      ],
      "metadata": {
        "colab": {
          "base_uri": "https://localhost:8080/"
        },
        "id": "4uZiXJbHWMRQ",
        "outputId": "603de528-4008-4b99-d60d-ce64ae2d1f45"
      },
      "execution_count": 16,
      "outputs": [
        {
          "output_type": "stream",
          "name": "stdout",
          "text": [
            "Model: \"sequential\"\n",
            "_________________________________________________________________\n",
            " Layer (type)                Output Shape              Param #   \n",
            "=================================================================\n",
            " dense (Dense)               (None, 10)                7850      \n",
            "                                                                 \n",
            " dense_1 (Dense)             (None, 10)                110       \n",
            "                                                                 \n",
            " dense_2 (Dense)             (None, 10)                110       \n",
            "                                                                 \n",
            "=================================================================\n",
            "Total params: 8,070\n",
            "Trainable params: 8,070\n",
            "Non-trainable params: 0\n",
            "_________________________________________________________________\n"
          ]
        }
      ]
    },
    {
      "cell_type": "code",
      "source": [
        "import tensorflow as tf\n",
        "sgd = tf.keras.optimizers.SGD()\n",
        "losses = losses.categorical_crossentropy\n",
        "model.compile(optimizer = sgd,loss = losses, metrics = ['accuracy'])"
      ],
      "metadata": {
        "id": "VKS8s7Q9WMUF"
      },
      "execution_count": 18,
      "outputs": []
    },
    {
      "cell_type": "code",
      "source": [
        "history = model.fit(x_train,y_train, batch_size = 100,epochs = 30, validation_split = 0.3,verbose = 1)"
      ],
      "metadata": {
        "id": "7-Rh7pilZFM3"
      },
      "execution_count": null,
      "outputs": []
    },
    {
      "cell_type": "code",
      "source": [
        "plt.plot(history.history['accuracy'])\n",
        "plt.plot(history.history['val_accuracy'])\n",
        "plt.legend(['training','validation'])\n",
        "plt.show()"
      ],
      "metadata": {
        "colab": {
          "base_uri": "https://localhost:8080/",
          "height": 265
        },
        "id": "UX7bDM63ZFQA",
        "outputId": "6efdee60-8950-41ad-88df-6e115667fdee"
      },
      "execution_count": 20,
      "outputs": [
        {
          "output_type": "display_data",
          "data": {
            "text/plain": [
              "<Figure size 432x288 with 1 Axes>"
            ],
            "image/png": "[encoded data removed]"
          },
          "metadata": {
            "needs_background": "light"
          }
        }
      ]
    },
    {
      "cell_type": "code",
      "source": [
        "#Adding initializer\n",
        "model = Sequential()\n",
        "model.add(Dense(10,input_shape=(x_train.shape[1],),kernel_initializer = 'he_normal', activation = 'sigmoid'))\n",
        "model.add(Dense(10, activation = 'sigmoid'))\n",
        "model.add(Dense(10, activation = 'softmax'))\n",
        "model.summary()\n",
        "\n",
        "#To try - Add initializer to every layer"
      ],
      "metadata": {
        "colab": {
          "base_uri": "https://localhost:8080/"
        },
        "id": "QlOAg_yGZFTI",
        "outputId": "5365114c-2b80-4e54-c280-e124cdaae12e"
      },
      "execution_count": 21,
      "outputs": [
        {
          "output_type": "stream",
          "name": "stdout",
          "text": [
            "Model: \"sequential_1\"\n",
            "_________________________________________________________________\n",
            " Layer (type)                Output Shape              Param #   \n",
            "=================================================================\n",
            " dense_3 (Dense)             (None, 10)                7850      \n",
            "                                                                 \n",
            " dense_4 (Dense)             (None, 10)                110       \n",
            "                                                                 \n",
            " dense_5 (Dense)             (None, 10)                110       \n",
            "                                                                 \n",
            "=================================================================\n",
            "Total params: 8,070\n",
            "Trainable params: 8,070\n",
            "Non-trainable params: 0\n",
            "_________________________________________________________________\n"
          ]
        }
      ]
    },
    {
      "cell_type": "code",
      "source": [
        "model.compile(optimizer = sgd,loss = losses, metrics = ['accuracy'])\n",
        "history = model.fit(x_train,y_train, batch_size = 100,epochs = 30, validation_split = 0.3,verbose = 1)\n",
        "plt.plot(history.history['accuracy'])\n",
        "plt.plot(history.history['val_accuracy'])\n",
        "plt.legend(['training','validation'])\n",
        "plt.show()"
      ],
      "metadata": {
        "colab": {
          "base_uri": "https://localhost:8080/",
          "height": 1000
        },
        "id": "-dZWONOJZFV-",
        "outputId": "9ad76e9c-fecf-4337-820c-9ee1ee28e619"
      },
      "execution_count": 24,
      "outputs": [
        {
          "output_type": "stream",
          "name": "stdout",
          "text": [
            "Epoch 1/30\n",
            "420/420 [==============================] - 2s 3ms/step - loss: 2.2693 - accuracy: 0.2167 - val_loss: 2.1837 - val_accuracy: 0.3426\n",
            "Epoch 2/30\n",
            "420/420 [==============================] - 1s 2ms/step - loss: 2.1467 - accuracy: 0.4104 - val_loss: 2.1078 - val_accuracy: 0.4627\n",
            "Epoch 3/30\n",
            "420/420 [==============================] - 1s 3ms/step - loss: 2.0754 - accuracy: 0.4830 - val_loss: 2.0371 - val_accuracy: 0.5154\n",
            "Epoch 4/30\n",
            "420/420 [==============================] - 1s 3ms/step - loss: 2.0017 - accuracy: 0.5332 - val_loss: 1.9592 - val_accuracy: 0.5900\n",
            "Epoch 5/30\n",
            "420/420 [==============================] - 1s 3ms/step - loss: 1.9219 - accuracy: 0.5955 - val_loss: 1.8798 - val_accuracy: 0.6204\n",
            "Epoch 6/30\n",
            "420/420 [==============================] - 1s 2ms/step - loss: 1.8350 - accuracy: 0.6318 - val_loss: 1.7891 - val_accuracy: 0.6447\n",
            "Epoch 7/30\n",
            "420/420 [==============================] - 1s 3ms/step - loss: 1.7493 - accuracy: 0.6523 - val_loss: 1.7074 - val_accuracy: 0.6656\n",
            "Epoch 8/30\n",
            "420/420 [==============================] - 1s 3ms/step - loss: 1.6685 - accuracy: 0.6692 - val_loss: 1.6352 - val_accuracy: 0.6873\n",
            "Epoch 9/30\n",
            "420/420 [==============================] - 1s 3ms/step - loss: 1.5925 - accuracy: 0.6817 - val_loss: 1.5567 - val_accuracy: 0.6931\n",
            "Epoch 10/30\n",
            "420/420 [==============================] - 1s 2ms/step - loss: 1.5219 - accuracy: 0.6907 - val_loss: 1.4878 - val_accuracy: 0.7055\n",
            "Epoch 11/30\n",
            "420/420 [==============================] - 1s 3ms/step - loss: 1.4553 - accuracy: 0.7015 - val_loss: 1.4247 - val_accuracy: 0.7149\n",
            "Epoch 12/30\n",
            "420/420 [==============================] - 1s 2ms/step - loss: 1.3932 - accuracy: 0.7109 - val_loss: 1.3612 - val_accuracy: 0.7334\n",
            "Epoch 13/30\n",
            "420/420 [==============================] - 1s 3ms/step - loss: 1.3351 - accuracy: 0.7220 - val_loss: 1.3085 - val_accuracy: 0.7392\n",
            "Epoch 14/30\n",
            "420/420 [==============================] - 1s 2ms/step - loss: 1.2802 - accuracy: 0.7319 - val_loss: 1.2561 - val_accuracy: 0.7347\n",
            "Epoch 15/30\n",
            "420/420 [==============================] - 1s 2ms/step - loss: 1.2288 - accuracy: 0.7436 - val_loss: 1.2007 - val_accuracy: 0.7706\n",
            "Epoch 16/30\n",
            "420/420 [==============================] - 1s 3ms/step - loss: 1.1783 - accuracy: 0.7563 - val_loss: 1.1497 - val_accuracy: 0.7681\n",
            "Epoch 17/30\n",
            "420/420 [==============================] - 1s 2ms/step - loss: 1.1362 - accuracy: 0.7730 - val_loss: 1.1114 - val_accuracy: 0.7857\n",
            "Epoch 18/30\n",
            "420/420 [==============================] - 1s 3ms/step - loss: 1.0968 - accuracy: 0.7802 - val_loss: 1.0670 - val_accuracy: 0.7896\n",
            "Epoch 19/30\n",
            "420/420 [==============================] - 1s 2ms/step - loss: 1.0578 - accuracy: 0.7827 - val_loss: 1.0497 - val_accuracy: 0.7830\n",
            "Epoch 20/30\n",
            "420/420 [==============================] - 1s 3ms/step - loss: 1.0259 - accuracy: 0.7813 - val_loss: 0.9983 - val_accuracy: 0.7833\n",
            "Epoch 21/30\n",
            "420/420 [==============================] - 1s 3ms/step - loss: 0.9964 - accuracy: 0.7902 - val_loss: 0.9799 - val_accuracy: 0.8029\n",
            "Epoch 22/30\n",
            "420/420 [==============================] - 1s 3ms/step - loss: 0.9667 - accuracy: 0.7894 - val_loss: 0.9482 - val_accuracy: 0.7922\n",
            "Epoch 23/30\n",
            "420/420 [==============================] - 1s 2ms/step - loss: 0.9354 - accuracy: 0.7965 - val_loss: 0.9197 - val_accuracy: 0.8007\n",
            "Epoch 24/30\n",
            "420/420 [==============================] - 1s 3ms/step - loss: 0.9108 - accuracy: 0.7987 - val_loss: 0.8986 - val_accuracy: 0.8097\n",
            "Epoch 25/30\n",
            "420/420 [==============================] - 1s 3ms/step - loss: 0.8903 - accuracy: 0.8020 - val_loss: 0.8740 - val_accuracy: 0.8004\n",
            "Epoch 26/30\n",
            "420/420 [==============================] - 1s 2ms/step - loss: 0.8663 - accuracy: 0.8003 - val_loss: 0.8635 - val_accuracy: 0.8144\n",
            "Epoch 27/30\n",
            "420/420 [==============================] - 1s 2ms/step - loss: 0.8392 - accuracy: 0.8137 - val_loss: 0.8587 - val_accuracy: 0.8028\n",
            "Epoch 28/30\n",
            "420/420 [==============================] - 1s 2ms/step - loss: 0.8171 - accuracy: 0.8153 - val_loss: 0.8065 - val_accuracy: 0.8137\n",
            "Epoch 29/30\n",
            "420/420 [==============================] - 1s 3ms/step - loss: 0.7983 - accuracy: 0.8214 - val_loss: 0.7966 - val_accuracy: 0.8229\n",
            "Epoch 30/30\n",
            "420/420 [==============================] - 1s 2ms/step - loss: 0.7803 - accuracy: 0.8247 - val_loss: 0.7732 - val_accuracy: 0.8227\n"
          ]
        },
        {
          "output_type": "display_data",
          "data": {
            "text/plain": [
              "<Figure size 432x288 with 1 Axes>"
            ],
            "image/png": "[encoded data removed]"
          },
          "metadata": {
            "needs_background": "light"
          }
        }
      ]
    },
    {
      "cell_type": "markdown",
      "source": [
        "![image.png](data:image/png;base64,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)"
      ],
      "metadata": {
        "id": "Xb1gUzOccokS"
      }
    },
    {
      "cell_type": "code",
      "source": [
        "## Trying out non-saturating acctivation functions\n",
        "model = Sequential()\n",
        "model.add(Dense(10,input_shape=(x_train.shape[1],), activation = 'sigmoid'))\n",
        "model.add(Dense(10, activation = 'relu'))\n",
        "model.add(Dense(10, activation = 'softmax'))"
      ],
      "metadata": {
        "id": "hCkFWUrncoY3"
      },
      "execution_count": 34,
      "outputs": []
    },
    {
      "cell_type": "code",
      "source": [
        "model.summary()"
      ],
      "metadata": {
        "colab": {
          "base_uri": "https://localhost:8080/"
        },
        "id": "j4pOJIc6ZFZX",
        "outputId": "63012a2b-cdbc-4f69-e14a-fd4e1ded452d"
      },
      "execution_count": 35,
      "outputs": [
        {
          "output_type": "stream",
          "name": "stdout",
          "text": [
            "Model: \"sequential_5\"\n",
            "_________________________________________________________________\n",
            " Layer (type)                Output Shape              Param #   \n",
            "=================================================================\n",
            " dense_15 (Dense)            (None, 10)                7850      \n",
            "                                                                 \n",
            " dense_16 (Dense)            (None, 10)                110       \n",
            "                                                                 \n",
            " dense_17 (Dense)            (None, 10)                110       \n",
            "                                                                 \n",
            "=================================================================\n",
            "Total params: 8,070\n",
            "Trainable params: 8,070\n",
            "Non-trainable params: 0\n",
            "_________________________________________________________________\n"
          ]
        }
      ]
    },
    {
      "cell_type": "code",
      "source": [
        "model.compile(optimizer = sgd,loss = losses, metrics = ['accuracy'])\n",
        "history = model.fit(x_train,y_train, batch_size = 100,epochs = 30, validation_split = 0.3,verbose = 1)\n",
        "plt.plot(history.history['accuracy'])\n",
        "plt.plot(history.history['val_accuracy'])\n",
        "plt.legend(['training','validation'])\n",
        "plt.show()"
      ],
      "metadata": {
        "colab": {
          "base_uri": "https://localhost:8080/",
          "height": 1000
        },
        "id": "GcnoMibRZFdQ",
        "outputId": "648fddf4-2a69-4d4b-8a48-754b852e4e15"
      },
      "execution_count": 36,
      "outputs": [
        {
          "output_type": "stream",
          "name": "stdout",
          "text": [
            "Epoch 1/30\n",
            "420/420 [==============================] - 2s 3ms/step - loss: 2.1758 - accuracy: 0.2884 - val_loss: 2.0498 - val_accuracy: 0.4303\n",
            "Epoch 2/30\n",
            "420/420 [==============================] - 1s 3ms/step - loss: 1.9232 - accuracy: 0.4296 - val_loss: 1.7737 - val_accuracy: 0.3868\n",
            "Epoch 3/30\n",
            "420/420 [==============================] - 1s 2ms/step - loss: 1.6398 - accuracy: 0.4282 - val_loss: 1.4787 - val_accuracy: 0.4947\n",
            "Epoch 4/30\n",
            "420/420 [==============================] - 1s 3ms/step - loss: 1.3771 - accuracy: 0.6090 - val_loss: 1.2545 - val_accuracy: 0.6909\n",
            "Epoch 5/30\n",
            "420/420 [==============================] - 1s 2ms/step - loss: 1.1854 - accuracy: 0.7081 - val_loss: 1.1018 - val_accuracy: 0.7415\n",
            "Epoch 6/30\n",
            "420/420 [==============================] - 1s 3ms/step - loss: 1.0481 - accuracy: 0.7290 - val_loss: 0.9665 - val_accuracy: 0.7524\n",
            "Epoch 7/30\n",
            "420/420 [==============================] - 1s 2ms/step - loss: 0.9570 - accuracy: 0.7385 - val_loss: 0.9218 - val_accuracy: 0.7474\n",
            "Epoch 8/30\n",
            "420/420 [==============================] - 1s 3ms/step - loss: 0.8905 - accuracy: 0.7427 - val_loss: 0.8460 - val_accuracy: 0.7569\n",
            "Epoch 9/30\n",
            "420/420 [==============================] - 1s 3ms/step - loss: 0.8515 - accuracy: 0.7508 - val_loss: 0.8034 - val_accuracy: 0.7703\n",
            "Epoch 10/30\n",
            "420/420 [==============================] - 1s 3ms/step - loss: 0.7916 - accuracy: 0.7652 - val_loss: 0.7679 - val_accuracy: 0.7753\n",
            "Epoch 11/30\n",
            "420/420 [==============================] - 1s 2ms/step - loss: 0.7794 - accuracy: 0.7673 - val_loss: 0.7750 - val_accuracy: 0.7699\n",
            "Epoch 12/30\n",
            "420/420 [==============================] - 1s 3ms/step - loss: 0.7565 - accuracy: 0.7720 - val_loss: 0.7290 - val_accuracy: 0.7754\n",
            "Epoch 13/30\n",
            "420/420 [==============================] - 1s 2ms/step - loss: 0.7350 - accuracy: 0.7775 - val_loss: 0.7723 - val_accuracy: 0.7811\n",
            "Epoch 14/30\n",
            "420/420 [==============================] - 1s 2ms/step - loss: 0.7234 - accuracy: 0.7818 - val_loss: 0.7095 - val_accuracy: 0.7829\n",
            "Epoch 15/30\n",
            "420/420 [==============================] - 1s 2ms/step - loss: 0.6938 - accuracy: 0.7964 - val_loss: 0.6733 - val_accuracy: 0.8016\n",
            "Epoch 16/30\n",
            "420/420 [==============================] - 1s 2ms/step - loss: 0.6908 - accuracy: 0.7959 - val_loss: 0.6284 - val_accuracy: 0.8146\n",
            "Epoch 17/30\n",
            "420/420 [==============================] - 1s 3ms/step - loss: 0.6600 - accuracy: 0.8064 - val_loss: 0.6301 - val_accuracy: 0.8219\n",
            "Epoch 18/30\n",
            "420/420 [==============================] - 1s 2ms/step - loss: 0.6416 - accuracy: 0.8083 - val_loss: 0.6224 - val_accuracy: 0.8244\n",
            "Epoch 19/30\n",
            "420/420 [==============================] - 1s 3ms/step - loss: 0.6368 - accuracy: 0.8146 - val_loss: 0.7070 - val_accuracy: 0.7866\n",
            "Epoch 20/30\n",
            "420/420 [==============================] - 1s 3ms/step - loss: 0.6382 - accuracy: 0.8092 - val_loss: 0.6221 - val_accuracy: 0.8251\n",
            "Epoch 21/30\n",
            "420/420 [==============================] - 1s 2ms/step - loss: 0.6108 - accuracy: 0.8251 - val_loss: 0.5867 - val_accuracy: 0.8341\n",
            "Epoch 22/30\n",
            "420/420 [==============================] - 1s 3ms/step - loss: 0.5887 - accuracy: 0.8309 - val_loss: 0.5748 - val_accuracy: 0.8396\n",
            "Epoch 23/30\n",
            "420/420 [==============================] - 1s 2ms/step - loss: 0.6067 - accuracy: 0.8213 - val_loss: 0.6204 - val_accuracy: 0.8266\n",
            "Epoch 24/30\n",
            "420/420 [==============================] - 1s 2ms/step - loss: 0.5794 - accuracy: 0.8349 - val_loss: 0.5572 - val_accuracy: 0.8444\n",
            "Epoch 25/30\n",
            "420/420 [==============================] - 1s 3ms/step - loss: 0.6174 - accuracy: 0.8193 - val_loss: 0.6127 - val_accuracy: 0.8180\n",
            "Epoch 26/30\n",
            "420/420 [==============================] - 1s 3ms/step - loss: 0.5765 - accuracy: 0.8318 - val_loss: 0.5617 - val_accuracy: 0.8411\n",
            "Epoch 27/30\n",
            "420/420 [==============================] - 1s 2ms/step - loss: 0.5647 - accuracy: 0.8367 - val_loss: 0.5504 - val_accuracy: 0.8401\n",
            "Epoch 28/30\n",
            "420/420 [==============================] - 1s 2ms/step - loss: 0.5562 - accuracy: 0.8399 - val_loss: 0.5352 - val_accuracy: 0.8473\n",
            "Epoch 29/30\n",
            "420/420 [==============================] - 1s 2ms/step - loss: 0.5562 - accuracy: 0.8373 - val_loss: 0.5738 - val_accuracy: 0.8359\n",
            "Epoch 30/30\n",
            "420/420 [==============================] - 1s 2ms/step - loss: 0.5606 - accuracy: 0.8393 - val_loss: 0.5742 - val_accuracy: 0.8321\n"
          ]
        },
        {
          "output_type": "display_data",
          "data": {
            "text/plain": [
              "<Figure size 432x288 with 1 Axes>"
            ],
            "image/png": "[encoded data removed]"
          },
          "metadata": {
            "needs_background": "light"
          }
        }
      ]
    },
    {
      "cell_type": "markdown",
      "source": [
        "![image.png](data:image/png;base64,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)"
      ],
      "metadata": {
        "id": "_wIe2G5rgglr"
      }
    },
    {
      "cell_type": "code",
      "source": [
        "## Trying out Optimizer\n",
        "model = Sequential()\n",
        "model.add(Dense(10,input_shape=(x_train.shape[1],), activation = 'sigmoid'))\n",
        "model.add(Dense(10, activation = 'relu'))\n",
        "model.add(Dense(10, activation = 'softmax'))"
      ],
      "metadata": {
        "id": "tvTfkWn-WMXM"
      },
      "execution_count": 37,
      "outputs": []
    },
    {
      "cell_type": "code",
      "source": [
        "import tensorflow as tf\n",
        "adm = tf.keras.optimizers.Adam()\n",
        "model.compile(optimizer = adm,loss = losses, metrics = ['accuracy'])\n",
        "history = model.fit(x_train,y_train, batch_size = 100,epochs = 30, validation_split = 0.3,verbose = 1)\n",
        "plt.plot(history.history['accuracy'])\n",
        "plt.plot(history.history['val_accuracy'])\n",
        "plt.legend(['training','validation'])\n",
        "plt.show()"
      ],
      "metadata": {
        "colab": {
          "base_uri": "https://localhost:8080/",
          "height": 1000
        },
        "id": "1-gha73gVBHi",
        "outputId": "2516edf5-b1b2-4325-eac8-e706f86741c4"
      },
      "execution_count": 39,
      "outputs": [
        {
          "output_type": "stream",
          "name": "stdout",
          "text": [
            "Epoch 1/30\n",
            "420/420 [==============================] - 2s 3ms/step - loss: 1.7018 - accuracy: 0.4293 - val_loss: 1.1382 - val_accuracy: 0.6781\n",
            "Epoch 2/30\n",
            "420/420 [==============================] - 1s 3ms/step - loss: 0.9462 - accuracy: 0.7018 - val_loss: 0.8134 - val_accuracy: 0.7404\n",
            "Epoch 3/30\n",
            "420/420 [==============================] - 1s 3ms/step - loss: 0.7619 - accuracy: 0.7555 - val_loss: 0.6888 - val_accuracy: 0.7932\n",
            "Epoch 4/30\n",
            "420/420 [==============================] - 1s 3ms/step - loss: 0.6894 - accuracy: 0.7845 - val_loss: 0.6486 - val_accuracy: 0.8033\n",
            "Epoch 5/30\n",
            "420/420 [==============================] - 1s 3ms/step - loss: 0.6301 - accuracy: 0.8063 - val_loss: 0.6081 - val_accuracy: 0.8260\n",
            "Epoch 6/30\n",
            "420/420 [==============================] - 1s 3ms/step - loss: 0.5952 - accuracy: 0.8214 - val_loss: 0.5725 - val_accuracy: 0.8303\n",
            "Epoch 7/30\n",
            "420/420 [==============================] - 1s 3ms/step - loss: 0.5637 - accuracy: 0.8306 - val_loss: 0.5418 - val_accuracy: 0.8379\n",
            "Epoch 8/30\n",
            "420/420 [==============================] - 1s 3ms/step - loss: 0.5347 - accuracy: 0.8397 - val_loss: 0.5306 - val_accuracy: 0.8446\n",
            "Epoch 9/30\n",
            "420/420 [==============================] - 1s 3ms/step - loss: 0.5156 - accuracy: 0.8443 - val_loss: 0.5188 - val_accuracy: 0.8406\n",
            "Epoch 10/30\n",
            "420/420 [==============================] - 1s 3ms/step - loss: 0.5067 - accuracy: 0.8457 - val_loss: 0.5001 - val_accuracy: 0.8502\n",
            "Epoch 11/30\n",
            "420/420 [==============================] - 1s 3ms/step - loss: 0.4985 - accuracy: 0.8507 - val_loss: 0.4916 - val_accuracy: 0.8564\n",
            "Epoch 12/30\n",
            "420/420 [==============================] - 1s 3ms/step - loss: 0.4964 - accuracy: 0.8504 - val_loss: 0.4991 - val_accuracy: 0.8504\n",
            "Epoch 13/30\n",
            "420/420 [==============================] - 1s 3ms/step - loss: 0.4752 - accuracy: 0.8638 - val_loss: 0.4543 - val_accuracy: 0.8701\n",
            "Epoch 14/30\n",
            "420/420 [==============================] - 1s 3ms/step - loss: 0.4869 - accuracy: 0.8562 - val_loss: 0.5069 - val_accuracy: 0.8519\n",
            "Epoch 15/30\n",
            "420/420 [==============================] - 1s 3ms/step - loss: 0.5159 - accuracy: 0.8445 - val_loss: 0.4896 - val_accuracy: 0.8505\n",
            "Epoch 16/30\n",
            "420/420 [==============================] - 1s 3ms/step - loss: 0.4929 - accuracy: 0.8514 - val_loss: 0.4749 - val_accuracy: 0.8551\n",
            "Epoch 17/30\n",
            "420/420 [==============================] - 1s 3ms/step - loss: 0.4733 - accuracy: 0.8617 - val_loss: 0.4831 - val_accuracy: 0.8557\n",
            "Epoch 18/30\n",
            "420/420 [==============================] - 1s 3ms/step - loss: 0.4595 - accuracy: 0.8655 - val_loss: 0.4630 - val_accuracy: 0.8698\n",
            "Epoch 19/30\n",
            "420/420 [==============================] - 1s 3ms/step - loss: 0.4698 - accuracy: 0.8649 - val_loss: 0.4415 - val_accuracy: 0.8680\n",
            "Epoch 20/30\n",
            "420/420 [==============================] - 1s 3ms/step - loss: 0.4503 - accuracy: 0.8668 - val_loss: 0.4513 - val_accuracy: 0.8646\n",
            "Epoch 21/30\n",
            "420/420 [==============================] - 1s 3ms/step - loss: 0.4559 - accuracy: 0.8661 - val_loss: 0.4350 - val_accuracy: 0.8676\n",
            "Epoch 22/30\n",
            "420/420 [==============================] - 1s 3ms/step - loss: 0.4329 - accuracy: 0.8755 - val_loss: 0.4547 - val_accuracy: 0.8693\n",
            "Epoch 23/30\n",
            "420/420 [==============================] - 1s 3ms/step - loss: 0.4367 - accuracy: 0.8735 - val_loss: 0.4246 - val_accuracy: 0.8712\n",
            "Epoch 24/30\n",
            "420/420 [==============================] - 1s 3ms/step - loss: 0.4301 - accuracy: 0.8748 - val_loss: 0.4540 - val_accuracy: 0.8698\n",
            "Epoch 25/30\n",
            "420/420 [==============================] - 1s 3ms/step - loss: 0.4523 - accuracy: 0.8692 - val_loss: 0.4388 - val_accuracy: 0.8721\n",
            "Epoch 26/30\n",
            "420/420 [==============================] - 1s 3ms/step - loss: 0.4325 - accuracy: 0.8747 - val_loss: 0.4427 - val_accuracy: 0.8717\n",
            "Epoch 27/30\n",
            "420/420 [==============================] - 1s 3ms/step - loss: 0.4285 - accuracy: 0.8785 - val_loss: 0.4268 - val_accuracy: 0.8730\n",
            "Epoch 28/30\n",
            "420/420 [==============================] - 1s 3ms/step - loss: 0.4223 - accuracy: 0.8782 - val_loss: 0.4668 - val_accuracy: 0.8665\n",
            "Epoch 29/30\n",
            "420/420 [==============================] - 1s 3ms/step - loss: 0.4425 - accuracy: 0.8730 - val_loss: 0.4343 - val_accuracy: 0.8722\n",
            "Epoch 30/30\n",
            "420/420 [==============================] - 1s 3ms/step - loss: 0.4199 - accuracy: 0.8764 - val_loss: 0.4400 - val_accuracy: 0.8714\n"
          ]
        },
        {
          "output_type": "display_data",
          "data": {
            "text/plain": [
              "<Figure size 432x288 with 1 Axes>"
            ],
            "image/png": "[encoded data removed]"
          },
          "metadata": {
            "needs_background": "light"
          }
        }
      ]
    },
    {
      "cell_type": "code",
      "source": [
        "#Adding more hidden layers and neurons\n",
        "model = Sequential()\n",
        "model.add(Dense(64,input_shape=(x_train.shape[1],), activation = 'sigmoid'))\n",
        "model.add(Dense(32, activation = 'relu'))\n",
        "model.add(Dense(16, activation = 'relu'))\n",
        "model.add(Dense(10, activation = 'softmax'))"
      ],
      "metadata": {
        "id": "wjmeebCjRvXM"
      },
      "execution_count": 42,
      "outputs": []
    },
    {
      "cell_type": "code",
      "source": [
        "import tensorflow as tf\n",
        "adm = tf.keras.optimizers.Adam()\n",
        "model.compile(optimizer = adm,loss = losses, metrics = ['accuracy'])\n",
        "history = model.fit(x_train,y_train, batch_size = 100,epochs = 30, validation_split = 0.3,verbose = 1)\n",
        "plt.plot(history.history['accuracy'])\n",
        "plt.plot(history.history['val_accuracy'])\n",
        "plt.legend(['training','validation'])\n",
        "plt.show()"
      ],
      "metadata": {
        "id": "V-0vlN-S5GUU",
        "colab": {
          "base_uri": "https://localhost:8080/",
          "height": 1000
        },
        "outputId": "c736a3f6-42e0-4a1a-e777-ee8cc62ee486"
      },
      "execution_count": 43,
      "outputs": [
        {
          "output_type": "stream",
          "name": "stdout",
          "text": [
            "Epoch 1/30\n",
            "420/420 [==============================] - 2s 4ms/step - loss: 0.8497 - accuracy: 0.7452 - val_loss: 0.4339 - val_accuracy: 0.8706\n",
            "Epoch 2/30\n",
            "420/420 [==============================] - 1s 3ms/step - loss: 0.4295 - accuracy: 0.8690 - val_loss: 0.4080 - val_accuracy: 0.8766\n",
            "Epoch 3/30\n",
            "420/420 [==============================] - 1s 3ms/step - loss: 0.3781 - accuracy: 0.8838 - val_loss: 0.3790 - val_accuracy: 0.8856\n",
            "Epoch 4/30\n",
            "420/420 [==============================] - 1s 3ms/step - loss: 0.3599 - accuracy: 0.8896 - val_loss: 0.3485 - val_accuracy: 0.8922\n",
            "Epoch 5/30\n",
            "420/420 [==============================] - 1s 3ms/step - loss: 0.3433 - accuracy: 0.8929 - val_loss: 0.3419 - val_accuracy: 0.8938\n",
            "Epoch 6/30\n",
            "420/420 [==============================] - 1s 3ms/step - loss: 0.3327 - accuracy: 0.8976 - val_loss: 0.3408 - val_accuracy: 0.8956\n",
            "Epoch 7/30\n",
            "420/420 [==============================] - 1s 3ms/step - loss: 0.3248 - accuracy: 0.9002 - val_loss: 0.3183 - val_accuracy: 0.9006\n",
            "Epoch 8/30\n",
            "420/420 [==============================] - 1s 3ms/step - loss: 0.2994 - accuracy: 0.9082 - val_loss: 0.3117 - val_accuracy: 0.9034\n",
            "Epoch 9/30\n",
            "420/420 [==============================] - 1s 3ms/step - loss: 0.3023 - accuracy: 0.9078 - val_loss: 0.2972 - val_accuracy: 0.9067\n",
            "Epoch 10/30\n",
            "420/420 [==============================] - 1s 3ms/step - loss: 0.2955 - accuracy: 0.9086 - val_loss: 0.2822 - val_accuracy: 0.9128\n",
            "Epoch 11/30\n",
            "420/420 [==============================] - 1s 3ms/step - loss: 0.2782 - accuracy: 0.9144 - val_loss: 0.2952 - val_accuracy: 0.9098\n",
            "Epoch 12/30\n",
            "420/420 [==============================] - 1s 3ms/step - loss: 0.2746 - accuracy: 0.9145 - val_loss: 0.2830 - val_accuracy: 0.9135\n",
            "Epoch 13/30\n",
            "420/420 [==============================] - 1s 3ms/step - loss: 0.2565 - accuracy: 0.9200 - val_loss: 0.2590 - val_accuracy: 0.9212\n",
            "Epoch 14/30\n",
            "420/420 [==============================] - 1s 3ms/step - loss: 0.2569 - accuracy: 0.9189 - val_loss: 0.2651 - val_accuracy: 0.9179\n",
            "Epoch 15/30\n",
            "420/420 [==============================] - 1s 3ms/step - loss: 0.2514 - accuracy: 0.9219 - val_loss: 0.2684 - val_accuracy: 0.9181\n",
            "Epoch 16/30\n",
            "420/420 [==============================] - 1s 3ms/step - loss: 0.2509 - accuracy: 0.9217 - val_loss: 0.2561 - val_accuracy: 0.9202\n",
            "Epoch 17/30\n",
            "420/420 [==============================] - 1s 3ms/step - loss: 0.2449 - accuracy: 0.9233 - val_loss: 0.2510 - val_accuracy: 0.9230\n",
            "Epoch 18/30\n",
            "420/420 [==============================] - 1s 3ms/step - loss: 0.2457 - accuracy: 0.9242 - val_loss: 0.2702 - val_accuracy: 0.9188\n",
            "Epoch 19/30\n",
            "420/420 [==============================] - 1s 3ms/step - loss: 0.2402 - accuracy: 0.9259 - val_loss: 0.2503 - val_accuracy: 0.9228\n",
            "Epoch 20/30\n",
            "420/420 [==============================] - 1s 3ms/step - loss: 0.2357 - accuracy: 0.9264 - val_loss: 0.2604 - val_accuracy: 0.9208\n",
            "Epoch 21/30\n",
            "420/420 [==============================] - 1s 3ms/step - loss: 0.2294 - accuracy: 0.9283 - val_loss: 0.2525 - val_accuracy: 0.9205\n",
            "Epoch 22/30\n",
            "420/420 [==============================] - 1s 3ms/step - loss: 0.2283 - accuracy: 0.9281 - val_loss: 0.2258 - val_accuracy: 0.9301\n",
            "Epoch 23/30\n",
            "420/420 [==============================] - 1s 3ms/step - loss: 0.2171 - accuracy: 0.9331 - val_loss: 0.2353 - val_accuracy: 0.9282\n",
            "Epoch 24/30\n",
            "420/420 [==============================] - 1s 3ms/step - loss: 0.2152 - accuracy: 0.9335 - val_loss: 0.2457 - val_accuracy: 0.9247\n",
            "Epoch 25/30\n",
            "420/420 [==============================] - 1s 3ms/step - loss: 0.2251 - accuracy: 0.9294 - val_loss: 0.2593 - val_accuracy: 0.9189\n",
            "Epoch 26/30\n",
            "420/420 [==============================] - 1s 3ms/step - loss: 0.2235 - accuracy: 0.9300 - val_loss: 0.2390 - val_accuracy: 0.9262\n",
            "Epoch 27/30\n",
            "420/420 [==============================] - 1s 3ms/step - loss: 0.2254 - accuracy: 0.9289 - val_loss: 0.2655 - val_accuracy: 0.9194\n",
            "Epoch 28/30\n",
            "420/420 [==============================] - 1s 3ms/step - loss: 0.2333 - accuracy: 0.9279 - val_loss: 0.2557 - val_accuracy: 0.9226\n",
            "Epoch 29/30\n",
            "420/420 [==============================] - 1s 3ms/step - loss: 0.2313 - accuracy: 0.9275 - val_loss: 0.2358 - val_accuracy: 0.9257\n",
            "Epoch 30/30\n",
            "420/420 [==============================] - 1s 3ms/step - loss: 0.2177 - accuracy: 0.9309 - val_loss: 0.2443 - val_accuracy: 0.9236\n"
          ]
        },
        {
          "output_type": "display_data",
          "data": {
            "text/plain": [
              "<Figure size 432x288 with 1 Axes>"
            ],
            "image/png": "[encoded data removed]"
          },
          "metadata": {
            "needs_background": "light"
          }
        }
      ]
    },
    {
      "cell_type": "code",
      "source": [
        "from keras.layers import Dropout"
      ],
      "metadata": {
        "id": "I0Q7cp6clBig"
      },
      "execution_count": 44,
      "outputs": []
    },
    {
      "cell_type": "code",
      "source": [
        "#Adding more hidden layers and neurons\n",
        "model = Sequential()\n",
        "model.add(Dense(64,input_shape=(x_train.shape[1],), activation = 'sigmoid'))\n",
        "model.add(Dropout(0.2))\n",
        "model.add(Dense(32, activation = 'relu'))\n",
        "model.add(Dense(16, activation = 'relu'))\n",
        "#model.add(Dropout(0.2))\n",
        "model.add(Dense(10, activation = 'softmax'))"
      ],
      "metadata": {
        "id": "AvY8Sp0RjexM"
      },
      "execution_count": 47,
      "outputs": []
    },
    {
      "cell_type": "code",
      "source": [
        "import tensorflow as tf\n",
        "adm = tf.keras.optimizers.Adam()\n",
        "model.compile(optimizer = adm,loss = losses, metrics = ['accuracy'])\n",
        "history = model.fit(x_train,y_train, batch_size = 100,epochs = 30, validation_split = 0.3,verbose = 1)\n",
        "plt.plot(history.history['accuracy'])\n",
        "plt.plot(history.history['val_accuracy'])\n",
        "plt.legend(['training','validation'])\n",
        "plt.show()"
      ],
      "metadata": {
        "colab": {
          "base_uri": "https://localhost:8080/",
          "height": 1000
        },
        "id": "qSzhRQi0jeup",
        "outputId": "c81ba301-0893-486b-8789-230c15ea6e11"
      },
      "execution_count": 48,
      "outputs": [
        {
          "output_type": "stream",
          "name": "stdout",
          "text": [
            "Epoch 1/30\n",
            "420/420 [==============================] - 3s 4ms/step - loss: 1.0330 - accuracy: 0.6651 - val_loss: 0.4526 - val_accuracy: 0.8685\n",
            "Epoch 2/30\n",
            "420/420 [==============================] - 1s 3ms/step - loss: 0.5233 - accuracy: 0.8361 - val_loss: 0.3831 - val_accuracy: 0.8816\n",
            "Epoch 3/30\n",
            "420/420 [==============================] - 1s 3ms/step - loss: 0.4773 - accuracy: 0.8510 - val_loss: 0.3515 - val_accuracy: 0.8948\n",
            "Epoch 4/30\n",
            "420/420 [==============================] - 1s 3ms/step - loss: 0.4448 - accuracy: 0.8600 - val_loss: 0.3079 - val_accuracy: 0.9070\n",
            "Epoch 5/30\n",
            "420/420 [==============================] - 1s 3ms/step - loss: 0.3918 - accuracy: 0.8775 - val_loss: 0.3078 - val_accuracy: 0.9097\n",
            "Epoch 6/30\n",
            "420/420 [==============================] - 1s 3ms/step - loss: 0.3855 - accuracy: 0.8813 - val_loss: 0.2724 - val_accuracy: 0.9169\n",
            "Epoch 7/30\n",
            "420/420 [==============================] - 1s 3ms/step - loss: 0.3718 - accuracy: 0.8850 - val_loss: 0.2795 - val_accuracy: 0.9154\n",
            "Epoch 8/30\n",
            "420/420 [==============================] - 1s 3ms/step - loss: 0.3666 - accuracy: 0.8870 - val_loss: 0.2740 - val_accuracy: 0.9168\n",
            "Epoch 9/30\n",
            "420/420 [==============================] - 1s 3ms/step - loss: 0.3547 - accuracy: 0.8914 - val_loss: 0.2632 - val_accuracy: 0.9203\n",
            "Epoch 10/30\n",
            "420/420 [==============================] - 1s 3ms/step - loss: 0.3450 - accuracy: 0.8924 - val_loss: 0.2536 - val_accuracy: 0.9266\n",
            "Epoch 11/30\n",
            "420/420 [==============================] - 1s 3ms/step - loss: 0.3367 - accuracy: 0.8960 - val_loss: 0.2558 - val_accuracy: 0.9224\n",
            "Epoch 12/30\n",
            "420/420 [==============================] - 1s 3ms/step - loss: 0.3400 - accuracy: 0.8940 - val_loss: 0.2522 - val_accuracy: 0.9228\n",
            "Epoch 13/30\n",
            "420/420 [==============================] - 1s 3ms/step - loss: 0.3280 - accuracy: 0.8992 - val_loss: 0.2509 - val_accuracy: 0.9241\n",
            "Epoch 14/30\n",
            "420/420 [==============================] - 1s 3ms/step - loss: 0.3240 - accuracy: 0.8990 - val_loss: 0.2427 - val_accuracy: 0.9266\n",
            "Epoch 15/30\n",
            "420/420 [==============================] - 1s 3ms/step - loss: 0.3169 - accuracy: 0.9018 - val_loss: 0.2364 - val_accuracy: 0.9256\n",
            "Epoch 16/30\n",
            "420/420 [==============================] - 1s 3ms/step - loss: 0.3043 - accuracy: 0.9055 - val_loss: 0.2357 - val_accuracy: 0.9294\n",
            "Epoch 17/30\n",
            "420/420 [==============================] - 1s 3ms/step - loss: 0.3070 - accuracy: 0.9053 - val_loss: 0.2309 - val_accuracy: 0.9277\n",
            "Epoch 18/30\n",
            "420/420 [==============================] - 1s 3ms/step - loss: 0.2990 - accuracy: 0.9063 - val_loss: 0.2168 - val_accuracy: 0.9323\n",
            "Epoch 19/30\n",
            "420/420 [==============================] - 1s 3ms/step - loss: 0.2965 - accuracy: 0.9069 - val_loss: 0.2294 - val_accuracy: 0.9297\n",
            "Epoch 20/30\n",
            "420/420 [==============================] - 1s 3ms/step - loss: 0.2930 - accuracy: 0.9084 - val_loss: 0.2213 - val_accuracy: 0.9333\n",
            "Epoch 21/30\n",
            "420/420 [==============================] - 1s 3ms/step - loss: 0.2962 - accuracy: 0.9091 - val_loss: 0.2198 - val_accuracy: 0.9334\n",
            "Epoch 22/30\n",
            "420/420 [==============================] - 1s 3ms/step - loss: 0.2768 - accuracy: 0.9145 - val_loss: 0.2263 - val_accuracy: 0.9309\n",
            "Epoch 23/30\n",
            "420/420 [==============================] - 1s 3ms/step - loss: 0.2745 - accuracy: 0.9144 - val_loss: 0.2096 - val_accuracy: 0.9348\n",
            "Epoch 24/30\n",
            "420/420 [==============================] - 1s 3ms/step - loss: 0.2795 - accuracy: 0.9147 - val_loss: 0.2080 - val_accuracy: 0.9376\n",
            "Epoch 25/30\n",
            "420/420 [==============================] - 1s 3ms/step - loss: 0.2696 - accuracy: 0.9169 - val_loss: 0.2061 - val_accuracy: 0.9374\n",
            "Epoch 26/30\n",
            "420/420 [==============================] - 1s 3ms/step - loss: 0.2689 - accuracy: 0.9168 - val_loss: 0.2054 - val_accuracy: 0.9364\n",
            "Epoch 27/30\n",
            "420/420 [==============================] - 1s 3ms/step - loss: 0.2615 - accuracy: 0.9194 - val_loss: 0.2054 - val_accuracy: 0.9356\n",
            "Epoch 28/30\n",
            "420/420 [==============================] - 1s 3ms/step - loss: 0.2597 - accuracy: 0.9202 - val_loss: 0.2054 - val_accuracy: 0.9383\n",
            "Epoch 29/30\n",
            "420/420 [==============================] - 1s 3ms/step - loss: 0.2694 - accuracy: 0.9154 - val_loss: 0.2151 - val_accuracy: 0.9327\n",
            "Epoch 30/30\n",
            "420/420 [==============================] - 1s 3ms/step - loss: 0.2599 - accuracy: 0.9196 - val_loss: 0.1977 - val_accuracy: 0.9388\n"
          ]
        },
        {
          "output_type": "display_data",
          "data": {
            "text/plain": [
              "<Figure size 432x288 with 1 Axes>"
            ],
            "image/png": "[encoded data removed]"
          },
          "metadata": {
            "needs_background": "light"
          }
        }
      ]
    },
    {
      "cell_type": "code",
      "source": [
        ""
      ],
      "metadata": {
        "id": "HOcz9Xvajerv"
      },
      "execution_count": null,
      "outputs": []
    },
    {
      "cell_type": "code",
      "source": [
        ""
      ],
      "metadata": {
        "id": "UFMjmSa2jepJ"
      },
      "execution_count": null,
      "outputs": []
    }
  ]
}